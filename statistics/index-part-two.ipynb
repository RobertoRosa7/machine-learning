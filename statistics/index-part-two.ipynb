{
 "cells": [
  {
   "cell_type": "markdown",
   "source": [
    "<h1>CURSO DE ESTATÍSTICA - PARTE 2</h1>\n",
    "<hr>"
   ],
   "metadata": {
    "collapsed": false,
    "pycharm": {
     "name": "#%% md\n"
    }
   }
  },
  {
   "cell_type": "code",
   "execution_count": 2,
   "metadata": {
    "collapsed": true,
    "pycharm": {
     "name": "#%%\n"
    }
   },
   "outputs": [
    {
     "name": "stdout",
     "output_type": "stream",
     "text": [
      "Pandas version => 1.4.2\n",
      "Numpy version => 1.22.2\n",
      "Scipy version => 1.8.0\n",
      "Matplotlib version => 3.5.2\n"
     ]
    }
   ],
   "source": [
    "import pandas, numpy, scipy, matplotlib\n",
    "\n",
    "print('Pandas version => %s' % pandas.__version__)\n",
    "print('Numpy version => %s' % numpy.__version__)\n",
    "print('Scipy version => %s' % scipy.__version__)\n",
    "print('Matplotlib version => %s' % matplotlib.__version__)"
   ]
  },
  {
   "cell_type": "code",
   "execution_count": 47,
   "outputs": [],
   "source": [
    "import pandas as pd\n",
    "import numpy as np\n",
    "from scipy.special import comb\n",
    "from scipy.stats import binom, poisson"
   ],
   "metadata": {
    "collapsed": false,
    "pycharm": {
     "name": "#%%\n"
    }
   }
  },
  {
   "cell_type": "code",
   "execution_count": 4,
   "outputs": [
    {
     "data": {
      "text/plain": "   UF  Sexo  Idade  Cor  Anos de Estudo  Renda    Altura\n0  11     0     23    8              12    800  1.603808\n1  11     1     23    2              12   1150  1.739790\n2  11     1     35    8              15    880  1.760444\n3  11     0     46    2               6   3500  1.783158\n4  11     1     47    8               9    150  1.690631",
      "text/html": "<div>\n<style scoped>\n    .dataframe tbody tr th:only-of-type {\n        vertical-align: middle;\n    }\n\n    .dataframe tbody tr th {\n        vertical-align: top;\n    }\n\n    .dataframe thead th {\n        text-align: right;\n    }\n</style>\n<table border=\"1\" class=\"dataframe\">\n  <thead>\n    <tr style=\"text-align: right;\">\n      <th></th>\n      <th>UF</th>\n      <th>Sexo</th>\n      <th>Idade</th>\n      <th>Cor</th>\n      <th>Anos de Estudo</th>\n      <th>Renda</th>\n      <th>Altura</th>\n    </tr>\n  </thead>\n  <tbody>\n    <tr>\n      <th>0</th>\n      <td>11</td>\n      <td>0</td>\n      <td>23</td>\n      <td>8</td>\n      <td>12</td>\n      <td>800</td>\n      <td>1.603808</td>\n    </tr>\n    <tr>\n      <th>1</th>\n      <td>11</td>\n      <td>1</td>\n      <td>23</td>\n      <td>2</td>\n      <td>12</td>\n      <td>1150</td>\n      <td>1.739790</td>\n    </tr>\n    <tr>\n      <th>2</th>\n      <td>11</td>\n      <td>1</td>\n      <td>35</td>\n      <td>8</td>\n      <td>15</td>\n      <td>880</td>\n      <td>1.760444</td>\n    </tr>\n    <tr>\n      <th>3</th>\n      <td>11</td>\n      <td>0</td>\n      <td>46</td>\n      <td>2</td>\n      <td>6</td>\n      <td>3500</td>\n      <td>1.783158</td>\n    </tr>\n    <tr>\n      <th>4</th>\n      <td>11</td>\n      <td>1</td>\n      <td>47</td>\n      <td>8</td>\n      <td>9</td>\n      <td>150</td>\n      <td>1.690631</td>\n    </tr>\n  </tbody>\n</table>\n</div>"
     },
     "execution_count": 4,
     "metadata": {},
     "output_type": "execute_result"
    }
   ],
   "source": [
    "df = pd.read_csv('../data/files/estatistica_dados.csv')\n",
    "df.head()"
   ],
   "metadata": {
    "collapsed": false,
    "pycharm": {
     "name": "#%%\n"
    }
   }
  },
  {
   "cell_type": "markdown",
   "source": [
    "<h2>2 DISTRIBUIÇÃO DE PROBABILIDADE</h2>\n",
    "<hr>"
   ],
   "metadata": {
    "collapsed": false,
    "pycharm": {
     "name": "#%% md\n"
    }
   }
  },
  {
   "cell_type": "markdown",
   "source": [
    "<span style=\"color: red\"><b>Problema</b></span>\n",
    "<hr>\n",
    "<p>\n",
    "Em concurso para preencher uma vaga de cientista de dados temos um total de <b>10 questões</b> de multipla escolha\n",
    "com <b>3 alternativas possíveis</b> em cada questão. <b>Cada questão tem o mesmo valor.</b> Suponha que um candidato resolva\n",
    "se aventurar sem ter estudado nada. Ele resolve fazer a prova de olhos vendados e chtar todas as resposta. Assumindo que a prova\n",
    "<b>Vale 10 pontos e a nota de corte seja 5</b>, obtenha a probabilidade desde candidato de <b>acertar 5 questões</b> e também a probabilidade desde candidado <b>passar para a próxima etapa do processo seletivo.</b>\n",
    "</p>\n",
    "\n",
    "<h5>Qual o número de ensaios (n)?</h5>"
   ],
   "metadata": {
    "collapsed": false,
    "pycharm": {
     "name": "#%% md\n"
    }
   }
  },
  {
   "cell_type": "code",
   "execution_count": 5,
   "outputs": [
    {
     "data": {
      "text/plain": "10"
     },
     "execution_count": 5,
     "metadata": {},
     "output_type": "execute_result"
    }
   ],
   "source": [
    "n = 10\n",
    "n"
   ],
   "metadata": {
    "collapsed": false,
    "pycharm": {
     "name": "#%%\n"
    }
   }
  },
  {
   "cell_type": "markdown",
   "source": [
    "<b>Os ensaios são indenpendentes?</b>\n",
    "<p>Sim. A opção escolhida em uma questão não influencia em nada a opção escolhida em outra questão</p>\n",
    "<br/>\n",
    "\n",
    "<b>Somente dois resultados são possíveis em cada ensaio?</b>\n",
    "<p>Sim. O candidato tem duas possibilidade - CERTA OU ERRADA para cada questão.</p>\n",
    "<br/>\n",
    "\n",
    "<b>Qual a probabilidade de sucesso (p)?</b>"
   ],
   "metadata": {
    "collapsed": false,
    "pycharm": {
     "name": "#%% md\n"
    }
   }
  },
  {
   "cell_type": "code",
   "execution_count": 6,
   "outputs": [
    {
     "data": {
      "text/plain": "0.3333333333333333"
     },
     "execution_count": 6,
     "metadata": {},
     "output_type": "execute_result"
    }
   ],
   "source": [
    "number_alter_by_question = 3\n",
    "p = 1 / number_alter_by_question\n",
    "p"
   ],
   "metadata": {
    "collapsed": false,
    "pycharm": {
     "name": "#%%\n"
    }
   }
  },
  {
   "cell_type": "markdown",
   "source": [
    "<b>Qual a probabilidade de fracasso?</b>"
   ],
   "metadata": {
    "collapsed": false,
    "pycharm": {
     "name": "#%% md\n"
    }
   }
  },
  {
   "cell_type": "code",
   "execution_count": 7,
   "outputs": [
    {
     "data": {
      "text/plain": "0.6666666666666667"
     },
     "execution_count": 7,
     "metadata": {},
     "output_type": "execute_result"
    }
   ],
   "source": [
    "q = 1 - p\n",
    "q"
   ],
   "metadata": {
    "collapsed": false,
    "pycharm": {
     "name": "#%%\n"
    }
   }
  },
  {
   "cell_type": "markdown",
   "source": [
    "<b>Qual o total de eventos que deseja obter sucesso (k)?</b>"
   ],
   "metadata": {
    "collapsed": false,
    "pycharm": {
     "name": "#%% md\n"
    }
   }
  },
  {
   "cell_type": "code",
   "execution_count": 8,
   "outputs": [
    {
     "data": {
      "text/plain": "5"
     },
     "execution_count": 8,
     "metadata": {},
     "output_type": "execute_result"
    }
   ],
   "source": [
    "k = 5\n",
    "k"
   ],
   "metadata": {
    "collapsed": false,
    "pycharm": {
     "name": "#%%\n"
    }
   }
  },
  {
   "cell_type": "markdown",
   "source": [
    "<b>Solução 1</b>"
   ],
   "metadata": {
    "collapsed": false,
    "pycharm": {
     "name": "#%% md\n"
    }
   }
  },
  {
   "cell_type": "code",
   "execution_count": 9,
   "outputs": [
    {
     "name": "stdout",
     "output_type": "stream",
     "text": [
      "0.13656455 <= probabilidade de acertar 5 questões\n"
     ]
    }
   ],
   "source": [
    "proba = (comb(n, k) * (p ** k) * (q ** (n - k)))\n",
    "print(\"%0.8f <= probabilidade de acertar 5 questões\" % proba)"
   ],
   "metadata": {
    "collapsed": false,
    "pycharm": {
     "name": "#%%\n"
    }
   }
  },
  {
   "cell_type": "markdown",
   "source": [
    "<b>Solução 2</b>"
   ],
   "metadata": {
    "collapsed": false,
    "pycharm": {
     "name": "#%% md\n"
    }
   }
  },
  {
   "cell_type": "code",
   "execution_count": 10,
   "outputs": [
    {
     "name": "stdout",
     "output_type": "stream",
     "text": [
      "0.13656455 <= probabilidade de acertar 5 questões\n"
     ]
    }
   ],
   "source": [
    "proba = binom.pmf(k, n, p)\n",
    "print(\"%0.8f <= probabilidade de acertar 5 questões\" % proba)"
   ],
   "metadata": {
    "collapsed": false,
    "pycharm": {
     "name": "#%%\n"
    }
   }
  },
  {
   "cell_type": "markdown",
   "source": [
    "<h3>Probabilidade do candidato passar</h3>\n",
    "\n",
    "![Probabilidade de passar no exame](../data/images/statistics-proba-pass.png)"
   ],
   "metadata": {
    "collapsed": false,
    "pycharm": {
     "name": "#%% md\n"
    }
   }
  },
  {
   "cell_type": "code",
   "execution_count": 11,
   "outputs": [
    {
     "data": {
      "text/plain": "0.21312808006909492"
     },
     "execution_count": 11,
     "metadata": {},
     "output_type": "execute_result"
    }
   ],
   "source": [
    "binom.pmf(5, n, p) + binom.pmf(6, n, p) + binom.pmf(7, n, p) + binom.pmf(8, n, p) + binom.pmf(9, n, p) + binom.pmf(10, n, p)"
   ],
   "metadata": {
    "collapsed": false,
    "pycharm": {
     "name": "#%%\n"
    }
   }
  },
  {
   "cell_type": "code",
   "execution_count": 12,
   "outputs": [
    {
     "data": {
      "text/plain": "0.21312808006909492"
     },
     "execution_count": 12,
     "metadata": {},
     "output_type": "execute_result"
    }
   ],
   "source": [
    "binom.pmf([5,6,7,8,9,10], n, p).sum()"
   ],
   "metadata": {
    "collapsed": false,
    "pycharm": {
     "name": "#%%\n"
    }
   }
  },
  {
   "cell_type": "code",
   "execution_count": 13,
   "outputs": [
    {
     "data": {
      "text/plain": "0.21312808006909523"
     },
     "execution_count": 13,
     "metadata": {},
     "output_type": "execute_result"
    }
   ],
   "source": [
    "1 - binom.cdf(4, n, p)"
   ],
   "metadata": {
    "collapsed": false,
    "pycharm": {
     "name": "#%%\n"
    }
   }
  },
  {
   "cell_type": "code",
   "execution_count": 14,
   "outputs": [
    {
     "data": {
      "text/plain": "0.21312808006909525"
     },
     "execution_count": 14,
     "metadata": {},
     "output_type": "execute_result"
    }
   ],
   "source": [
    "binom.sf(4, n, p)"
   ],
   "metadata": {
    "collapsed": false,
    "pycharm": {
     "name": "#%%\n"
    }
   }
  },
  {
   "cell_type": "markdown",
   "source": [
    "<h3>2.1 Distribuição Binomial</h3>\n",
    "<hr>\n",
    "<p>\n",
    "Um evento <b>binomial</b> é caracterizado pela possibilidade de ocorrência de apenas duas categorias. Estas categorias são representadas\n",
    "por todo espaço de amostra, sendo também mutualmente excludentes, isto é, a ocorrência de uma\n",
    "</p>\n",
    "\n",
    "![Probabilidade Binomial](../data/images/statistics-proba-binomial.png)\n",
    "\n",
    "<p>Onde:</p>\n",
    "<p><b>p</b> = probabilidade de sucesso</p>\n",
    "<p><b>q</b> = (1 - p) = probabilidade de fracasso</p>\n",
    "<p><b>n</b> = número de eventos estudados</p>\n",
    "<p><b>k</b> = número de eventos desejados que tenham sucesso</p>"
   ],
   "metadata": {
    "collapsed": false,
    "pycharm": {
     "name": "#%% md\n"
    }
   }
  },
  {
   "cell_type": "markdown",
   "source": [
    "<h4>Experimento Binomial</h4>\n",
    "<ol>\n",
    "<li>Realização de <b>n</b> idênticos.</li>\n",
    "<li>Os ensaios são independentes.</li>\n",
    "<li>Somentes os dois resultados são possíveis, exemplo: Verdadeiro ou Falso; Cara ou Coroa; Sucesso ou Fracasso.\n",
    "<li>A probablidade de sucesso é representada por <b>p</b> e a de fracasso por <b>(1 - p = q)</b>. Estas probabilidade não se modificam de\n",
    "ensaio para ensaio</li>\n",
    "</ol>"
   ],
   "metadata": {
    "collapsed": false,
    "pycharm": {
     "name": "#%% md\n"
    }
   }
  },
  {
   "cell_type": "markdown",
   "source": [
    "<h4>Média da distribuição binomial</h4>\n",
    "<p>O valor esperado ou a média da distribuição binomial é igual ano número de experimentos realizados multiplicado pela change de\n",
    "ocorrência do evento.</p>\n",
    "\n",
    "![Média da Distribuição Binomial](../data/images/statistics-media-dist-binomial.png)"
   ],
   "metadata": {
    "collapsed": false,
    "pycharm": {
     "name": "#%% md\n"
    }
   }
  },
  {
   "cell_type": "markdown",
   "source": [
    "<h4>Desvio padrão da distribuição binomial</h4>\n",
    "<p>O desvio padrão é o produto entre o número de experimentos, a probabilidade de sucesso e a probablidade de fracasso</p>\n",
    "\n",
    "![Desvio Padrão da Distribuição Binomial](../data/images/statistics-std-binomial.png)"
   ],
   "metadata": {
    "collapsed": false,
    "pycharm": {
     "name": "#%% md\n"
    }
   }
  },
  {
   "cell_type": "markdown",
   "source": [
    "<h4>Combinações:</h4>\n",
    "<p>Número de combinações de <b>n</b> objetos, tomados <b>k</b> a cada vez, e:</p>\n",
    "\n",
    "![Combinações](../data/images/statistics-comb.png)"
   ],
   "metadata": {
    "collapsed": false,
    "pycharm": {
     "name": "#%% md\n"
    }
   }
  },
  {
   "cell_type": "markdown",
   "source": [
    "<h4>Exemplo: Mega Sena</h4>\n",
    "<p>Em um volante de loteria da Mega Sena temos um total de <b>60 números</b> para escolher. A aposta mínima é de seis números. Você\n",
    "que é curioso resolve calcular a probabilidade de acertar na Mega Sena com apenas um jogo. Para isso precisamos saber quantas combinações\n",
    "de seis números podem ser formadas com os 60 números disponíveis</p>\n",
    "\n",
    "![Mega Sena](../data/images/statistics-comb-mega-sena.png)"
   ],
   "metadata": {
    "collapsed": false,
    "pycharm": {
     "name": "#%% md\n"
    }
   }
  },
  {
   "cell_type": "code",
   "execution_count": 15,
   "outputs": [
    {
     "data": {
      "text/plain": "50063860.0"
     },
     "execution_count": 15,
     "metadata": {},
     "output_type": "execute_result"
    }
   ],
   "source": [
    "combinations = comb(60, 6)\n",
    "combinations"
   ],
   "metadata": {
    "collapsed": false,
    "pycharm": {
     "name": "#%%\n"
    }
   }
  },
  {
   "cell_type": "code",
   "execution_count": 16,
   "outputs": [
    {
     "name": "stdout",
     "output_type": "stream",
     "text": [
      "0.000000019974489 <= Probabilidade de ganhar na Mega Sena com um Jogo\n"
     ]
    }
   ],
   "source": [
    "# Probabilidade de ganhar na Mega Sena com um jogo\n",
    "proba = 1 / combinations\n",
    "print('%0.15f <= Probabilidade de ganhar na Mega Sena com um Jogo' % proba)"
   ],
   "metadata": {
    "collapsed": false,
    "pycharm": {
     "name": "#%%\n"
    }
   }
  },
  {
   "cell_type": "markdown",
   "source": [
    "<p>\n",
    "Uma moeda, perfeitamente equilibrada, é lançada para o alto quatro vezes. Utilizando a distribuição binomial, obtenha a probabilidade de a moeda cair com a face coroa voltada para cima duas vezes.</p>"
   ],
   "metadata": {
    "collapsed": false,
    "pycharm": {
     "name": "#%% md\n"
    }
   }
  },
  {
   "cell_type": "code",
   "execution_count": 17,
   "outputs": [
    {
     "name": "stdout",
     "output_type": "stream",
     "text": [
      "37.50% <= probabilidade de dar cora duas vezes\n"
     ]
    }
   ],
   "source": [
    "print('{0:.2%} <= probabilidade de dar cora duas vezes'.format(binom.pmf(2, 4, (1/2))))"
   ],
   "metadata": {
    "collapsed": false,
    "pycharm": {
     "name": "#%%\n"
    }
   }
  },
  {
   "cell_type": "markdown",
   "source": [
    "<p>\n",
    "Um dado, perfeitamente equilibrado, é lançado para o alto dez vezes. Utilizando a distribuição binomial, obtenha a probabilidade de o dado cair com o número cinco voltado para cima pelo menos três vezes.</p>"
   ],
   "metadata": {
    "collapsed": false,
    "pycharm": {
     "name": "#%% md\n"
    }
   }
  },
  {
   "cell_type": "code",
   "execution_count": 18,
   "outputs": [
    {
     "name": "stdout",
     "output_type": "stream",
     "text": [
      "22.48% <= probabilidade do dado dar 5 voltado para cima pelo menos 3 vezes\n"
     ]
    }
   ],
   "source": [
    "print('{0:.2%} <= probabilidade do dado dar 5 voltado para cima pelo menos 3 vezes'.format(binom.sf(2, 10, (1/6))))"
   ],
   "metadata": {
    "collapsed": false,
    "pycharm": {
     "name": "#%%\n"
    }
   }
  },
  {
   "cell_type": "markdown",
   "source": [
    "<h3>Exemplo: Gincana</h3>\n",
    "<p>Uma cidade do interior realiza todos os anos uma gincana para arrecadar fundos para o hospital da cidade. Na última gincana se sabe que a <b>proporção de participantes do sexo feminino foi de 60%. O total de equipes, com 12 integrantes, inscritas na gincana deste ano é de 30</b>. Com as informações acima responda: Quantas equipes deverão ser formadas por 8 mulheres?</p>"
   ],
   "metadata": {
    "collapsed": false,
    "pycharm": {
     "name": "#%% md\n"
    }
   }
  },
  {
   "cell_type": "code",
   "execution_count": 20,
   "outputs": [
    {
     "name": "stdout",
     "output_type": "stream",
     "text": [
      "21.28% <= probabilidade de equipe formada por 8 mulheres\n"
     ]
    }
   ],
   "source": [
    "p = 0.6 # probabilidade de mulheres 60%\n",
    "n = 12 # 12 integrantes\n",
    "k = 8 # deve ser formada equipe de 8\n",
    "proba = binom.pmf(k, n, p)\n",
    "print('{0:.2%} <= probabilidade de equipe formada por 8 mulheres'.format(proba))"
   ],
   "metadata": {
    "collapsed": false,
    "pycharm": {
     "name": "#%%\n"
    }
   }
  },
  {
   "cell_type": "code",
   "execution_count": 26,
   "outputs": [
    {
     "name": "stdout",
     "output_type": "stream",
     "text": [
      "6.4 <= exatamente equipes formada por mulheres\n",
      "6 <= aproximadamente equipes formada por mulheres\n"
     ]
    }
   ],
   "source": [
    "women_team = 30 * proba\n",
    "print('{0:.2} <= exatamente equipes formada por mulheres'.format(women_team))\n",
    "print('{} <= aproximadamente equipes formada por mulheres'.format(round(women_team)))"
   ],
   "metadata": {
    "collapsed": false,
    "pycharm": {
     "name": "#%%\n"
    }
   }
  },
  {
   "cell_type": "markdown",
   "source": [
    "<p>Suponha que a probabilidade de um casal ter filhos com olhos azuis seja de 22%. Em 50 famílias, com 3 crianças cada uma, quantas podemos esperar que tenham dois filhos com olhos azuis?</p>"
   ],
   "metadata": {
    "collapsed": false,
    "pycharm": {
     "name": "#%% md\n"
    }
   }
  },
  {
   "cell_type": "code",
   "execution_count": 34,
   "outputs": [
    {
     "name": "stdout",
     "output_type": "stream",
     "text": [
      "11.33% <= probabilidade do casal ter filhos com olhos azuis\n",
      "5.66\n"
     ]
    }
   ],
   "source": [
    "p = 0.22\n",
    "n = 3\n",
    "k = 2\n",
    "proba = binom.pmf(k, n, p)\n",
    "print('{0:.2%} <= probabilidade do casal ter filhos com olhos azuis'.format(proba))\n",
    "print('{0:.3}'.format(50 * proba))"
   ],
   "metadata": {
    "collapsed": false,
    "pycharm": {
     "name": "#%%\n"
    }
   }
  },
  {
   "cell_type": "markdown",
   "source": [
    "<b style=\"color: red;\">Problema</b>\n",
    "<p>Um restaurante recebe em média <b>20 pedidos por hora</b>. Qual a change de que, em determinada hora escolhida ao acesso, o restaurante receba <b>15 pedidos</b>?"
   ],
   "metadata": {
    "collapsed": false,
    "pycharm": {
     "name": "#%% md\n"
    }
   }
  },
  {
   "cell_type": "markdown",
   "source": [
    "<h3>2.2 Distribuição Poisson</h3>\n",
    "<p>É empregada para descrever o número de ocorrência em um intervalo de tempo ou espaço específico. Os eventos são caracterizados pela possibilidade de contagem dos sucessos, mas a não possibilidade de contagem dos fracassos.<br/><br/>Como exemplos de processos onde podemos aplicar a distribuição de <b>Poisson</b> temos a determinação do número de clientes que entram em um loja em determinado hora, o número de carros que chegam em um drive-thru de uma lanchonete na hora do almoço, a determinação do número de acidentes registrados em um trecho de estrada etc..</p>\n",
    "\n",
    "![Distribuição Poisson](../data/images/statistics-distri-poisson.png)\n",
    "\n",
    "<b>Onde:</b>\n",
    "<b>e = onstante cujo valor é 2.718281828459045</b>\n",
    "<b>u = representa o número médio de ocorrência em um determinado intervalo de tempo</b>\n",
    "<b>k = número de sucesso no intervalo desejado</b>"
   ],
   "metadata": {
    "collapsed": false,
    "pycharm": {
     "name": "#%% md\n"
    }
   }
  },
  {
   "cell_type": "markdown",
   "source": [
    "<h4>Experimento Poisson</h4>\n",
    "<ol>\n",
    "<li>A probabilidade de uma ocorrência <b style=\"text-decoration: underline;\">é a mesma em todo o intervalo observado</b></li>\n",
    "<li>O número de ocorrência em determinado intervalo é <b style=\"text-decoration: underline;\">independente</b> do número de ocorrência em observação</li>\n",
    "<li>A probabilidade de uma ocorrência é a mesma em intervalos de <b style=\"text-decoration: underline;\">igual comprimento</b></li>\n",
    "</ol>"
   ],
   "metadata": {
    "collapsed": false,
    "pycharm": {
     "name": "#%% md\n"
    }
   }
  },
  {
   "cell_type": "markdown",
   "source": [
    "<h4>Desvio padrão da distribuição Poisson</h4>\n",
    "\n",
    "![Desvio Padrão da Distribuição Poisson](../data/images/statistics-std-poisson.png)"
   ],
   "metadata": {
    "collapsed": false,
    "pycharm": {
     "name": "#%% md\n"
    }
   }
  },
  {
   "cell_type": "code",
   "execution_count": 36,
   "outputs": [
    {
     "data": {
      "text/plain": "2.718281828459045"
     },
     "execution_count": 36,
     "metadata": {},
     "output_type": "execute_result"
    }
   ],
   "source": [
    "np.e"
   ],
   "metadata": {
    "collapsed": false,
    "pycharm": {
     "name": "#%%\n"
    }
   }
  },
  {
   "cell_type": "markdown",
   "source": [
    "<h4>Exemplo: Delivery</h4>\n",
    "<p>Um restaurante recebe em média <b>20 pedidos por hora</b>. Qual a change de que, em determinada hora escolhida ao acaso, o restaurante receba <b>15 pedidos</b>?"
   ],
   "metadata": {
    "collapsed": false,
    "pycharm": {
     "name": "#%% md\n"
    }
   }
  },
  {
   "cell_type": "markdown",
   "source": [
    "<b>Qual o número médio de ocorrência por hora (u)?</b>"
   ],
   "metadata": {
    "collapsed": false,
    "pycharm": {
     "name": "#%% md\n"
    }
   }
  },
  {
   "cell_type": "code",
   "execution_count": 37,
   "outputs": [
    {
     "data": {
      "text/plain": "20"
     },
     "execution_count": 37,
     "metadata": {},
     "output_type": "execute_result"
    }
   ],
   "source": [
    "media = 20\n",
    "media"
   ],
   "metadata": {
    "collapsed": false,
    "pycharm": {
     "name": "#%%\n"
    }
   }
  },
  {
   "cell_type": "markdown",
   "source": [
    "<b>Qual o número de ocorrências que queremos obter no período (k)?</b>"
   ],
   "metadata": {
    "collapsed": false,
    "pycharm": {
     "name": "#%% md\n"
    }
   }
  },
  {
   "cell_type": "code",
   "execution_count": 38,
   "outputs": [
    {
     "data": {
      "text/plain": "15"
     },
     "execution_count": 38,
     "metadata": {},
     "output_type": "execute_result"
    }
   ],
   "source": [
    "k = 15\n",
    "k"
   ],
   "metadata": {
    "collapsed": false,
    "pycharm": {
     "name": "#%%\n"
    }
   }
  },
  {
   "cell_type": "markdown",
   "source": [
    "<b>Solução 1</b>"
   ],
   "metadata": {
    "collapsed": false,
    "pycharm": {
     "name": "#%% md\n"
    }
   }
  },
  {
   "cell_type": "code",
   "execution_count": 45,
   "outputs": [
    {
     "name": "stdout",
     "output_type": "stream",
     "text": [
      "0.05164885 <= probabilidade do restaurante receber 15 pedidos em uma hora por acaso\n",
      "5.16% <= probabilidade do restaurante receber 15 pedidos em uma hora por acaso\n"
     ]
    }
   ],
   "source": [
    "proba = ((np.e ** (-media)) * (media ** k)) / (np.math.factorial(k))\n",
    "print('%0.8f <= probabilidade do restaurante receber 15 pedidos em uma hora por acaso' % proba)\n",
    "print('{0:.2%} <= probabilidade do restaurante receber 15 pedidos em uma hora por acaso'.format(proba))"
   ],
   "metadata": {
    "collapsed": false,
    "pycharm": {
     "name": "#%%\n"
    }
   }
  },
  {
   "cell_type": "markdown",
   "source": [
    "<b>Solução 2</b>"
   ],
   "metadata": {
    "collapsed": false,
    "pycharm": {
     "name": "#%% md\n"
    }
   }
  },
  {
   "cell_type": "code",
   "execution_count": 49,
   "outputs": [
    {
     "name": "stdout",
     "output_type": "stream",
     "text": [
      "0.05164885 <= probabilidade do restaurante receber 15 pedidos em uma hora por acaso\n",
      "5.16% <= probabilidade do restaurante receber 15 pedidos em uma hora por acaso\n"
     ]
    }
   ],
   "source": [
    "proba = poisson.pmf(k, media)\n",
    "print('%0.8f <= probabilidade do restaurante receber 15 pedidos em uma hora por acaso' % proba)\n",
    "print('{0:.2%} <= probabilidade do restaurante receber 15 pedidos em uma hora por acaso'.format(proba))"
   ],
   "metadata": {
    "collapsed": false,
    "pycharm": {
     "name": "#%%\n"
    }
   }
  },
  {
   "cell_type": "markdown",
   "source": [
    "<b style=\"color: red;\">Problema</b>\n",
    "<p>O número médio de clientes que entram em uma padaria por hora é igual a 20. Obtenha a probabilidade de, na próxima hora, entrarem exatamente 25 clientes.</p>"
   ],
   "metadata": {
    "collapsed": false,
    "pycharm": {
     "name": "#%% md\n"
    }
   }
  },
  {
   "cell_type": "code",
   "execution_count": 51,
   "outputs": [
    {
     "name": "stdout",
     "output_type": "stream",
     "text": [
      "4.46% <= a probabilidade de na próxima hora entrerem 25 clientes\n"
     ]
    }
   ],
   "source": [
    "print('{0:.2%} <= a probabilidade de na próxima hora entrerem 25 clientes'.format(poisson.pmf(25, 20)))"
   ],
   "metadata": {
    "collapsed": false,
    "pycharm": {
     "name": "#%%\n"
    }
   }
  }
 ],
 "metadata": {
  "kernelspec": {
   "display_name": "Python 3",
   "language": "python",
   "name": "python3"
  },
  "language_info": {
   "codemirror_mode": {
    "name": "ipython",
    "version": 2
   },
   "file_extension": ".py",
   "mimetype": "text/x-python",
   "name": "python",
   "nbconvert_exporter": "python",
   "pygments_lexer": "ipython2",
   "version": "2.7.6"
  }
 },
 "nbformat": 4,
 "nbformat_minor": 0
}