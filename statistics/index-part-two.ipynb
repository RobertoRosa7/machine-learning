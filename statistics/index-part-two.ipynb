{
 "cells": [
  {
   "cell_type": "markdown",
   "source": [
    "<h1>CURSO DE ESTATÍSTICA - PARTE 2</h1>\n",
    "<hr>"
   ],
   "metadata": {
    "collapsed": false,
    "pycharm": {
     "name": "#%% md\n"
    }
   }
  },
  {
   "cell_type": "code",
   "execution_count": 2,
   "metadata": {
    "collapsed": true,
    "pycharm": {
     "name": "#%%\n"
    }
   },
   "outputs": [
    {
     "name": "stdout",
     "output_type": "stream",
     "text": [
      "Pandas version => 1.4.2\n",
      "Numpy version => 1.22.2\n",
      "Scipy version => 1.8.0\n",
      "Matplotlib version => 3.5.2\n"
     ]
    }
   ],
   "source": [
    "import pandas, numpy, scipy, matplotlib\n",
    "\n",
    "print('Pandas version => %s' % pandas.__version__)\n",
    "print('Numpy version => %s' % numpy.__version__)\n",
    "print('Scipy version => %s' % scipy.__version__)\n",
    "print('Matplotlib version => %s' % matplotlib.__version__)"
   ]
  },
  {
   "cell_type": "code",
   "execution_count": 1,
   "outputs": [],
   "source": [
    "import pandas as pd\n",
    "import numpy as np\n",
    "from scipy.special import comb\n",
    "from scipy.stats import binom, poisson, norm"
   ],
   "metadata": {
    "collapsed": false,
    "pycharm": {
     "name": "#%%\n"
    }
   }
  },
  {
   "cell_type": "code",
   "execution_count": 4,
   "outputs": [
    {
     "data": {
      "text/plain": "   UF  Sexo  Idade  Cor  Anos de Estudo  Renda    Altura\n0  11     0     23    8              12    800  1.603808\n1  11     1     23    2              12   1150  1.739790\n2  11     1     35    8              15    880  1.760444\n3  11     0     46    2               6   3500  1.783158\n4  11     1     47    8               9    150  1.690631",
      "text/html": "<div>\n<style scoped>\n    .dataframe tbody tr th:only-of-type {\n        vertical-align: middle;\n    }\n\n    .dataframe tbody tr th {\n        vertical-align: top;\n    }\n\n    .dataframe thead th {\n        text-align: right;\n    }\n</style>\n<table border=\"1\" class=\"dataframe\">\n  <thead>\n    <tr style=\"text-align: right;\">\n      <th></th>\n      <th>UF</th>\n      <th>Sexo</th>\n      <th>Idade</th>\n      <th>Cor</th>\n      <th>Anos de Estudo</th>\n      <th>Renda</th>\n      <th>Altura</th>\n    </tr>\n  </thead>\n  <tbody>\n    <tr>\n      <th>0</th>\n      <td>11</td>\n      <td>0</td>\n      <td>23</td>\n      <td>8</td>\n      <td>12</td>\n      <td>800</td>\n      <td>1.603808</td>\n    </tr>\n    <tr>\n      <th>1</th>\n      <td>11</td>\n      <td>1</td>\n      <td>23</td>\n      <td>2</td>\n      <td>12</td>\n      <td>1150</td>\n      <td>1.739790</td>\n    </tr>\n    <tr>\n      <th>2</th>\n      <td>11</td>\n      <td>1</td>\n      <td>35</td>\n      <td>8</td>\n      <td>15</td>\n      <td>880</td>\n      <td>1.760444</td>\n    </tr>\n    <tr>\n      <th>3</th>\n      <td>11</td>\n      <td>0</td>\n      <td>46</td>\n      <td>2</td>\n      <td>6</td>\n      <td>3500</td>\n      <td>1.783158</td>\n    </tr>\n    <tr>\n      <th>4</th>\n      <td>11</td>\n      <td>1</td>\n      <td>47</td>\n      <td>8</td>\n      <td>9</td>\n      <td>150</td>\n      <td>1.690631</td>\n    </tr>\n  </tbody>\n</table>\n</div>"
     },
     "execution_count": 4,
     "metadata": {},
     "output_type": "execute_result"
    }
   ],
   "source": [
    "df = pd.read_csv('../data/files/estatistica_dados.csv')\n",
    "df.head()"
   ],
   "metadata": {
    "collapsed": false,
    "pycharm": {
     "name": "#%%\n"
    }
   }
  },
  {
   "cell_type": "markdown",
   "source": [
    "<h2>2 DISTRIBUIÇÃO DE PROBABILIDADE</h2>\n",
    "<hr>"
   ],
   "metadata": {
    "collapsed": false,
    "pycharm": {
     "name": "#%% md\n"
    }
   }
  },
  {
   "cell_type": "markdown",
   "source": [
    "<span style=\"color: red\"><b>Problema</b></span>\n",
    "<hr>\n",
    "<p>\n",
    "Em concurso para preencher uma vaga de cientista de dados temos um total de <b>10 questões</b> de multipla escolha\n",
    "com <b>3 alternativas possíveis</b> em cada questão. <b>Cada questão tem o mesmo valor.</b> Suponha que um candidato resolva\n",
    "se aventurar sem ter estudado nada. Ele resolve fazer a prova de olhos vendados e chtar todas as resposta. Assumindo que a prova\n",
    "<b>Vale 10 pontos e a nota de corte seja 5</b>, obtenha a probabilidade desde candidato de <b>acertar 5 questões</b> e também a probabilidade desde candidado <b>passar para a próxima etapa do processo seletivo.</b>\n",
    "</p>\n",
    "\n",
    "<h5>Qual o número de ensaios (n)?</h5>"
   ],
   "metadata": {
    "collapsed": false,
    "pycharm": {
     "name": "#%% md\n"
    }
   }
  },
  {
   "cell_type": "code",
   "execution_count": 5,
   "outputs": [
    {
     "data": {
      "text/plain": "10"
     },
     "execution_count": 5,
     "metadata": {},
     "output_type": "execute_result"
    }
   ],
   "source": [
    "n = 10\n",
    "n"
   ],
   "metadata": {
    "collapsed": false,
    "pycharm": {
     "name": "#%%\n"
    }
   }
  },
  {
   "cell_type": "markdown",
   "source": [
    "<b>Os ensaios são indenpendentes?</b>\n",
    "<p>Sim. A opção escolhida em uma questão não influencia em nada a opção escolhida em outra questão</p>\n",
    "<br/>\n",
    "\n",
    "<b>Somente dois resultados são possíveis em cada ensaio?</b>\n",
    "<p>Sim. O candidato tem duas possibilidade - CERTA OU ERRADA para cada questão.</p>\n",
    "<br/>\n",
    "\n",
    "<b>Qual a probabilidade de sucesso (p)?</b>"
   ],
   "metadata": {
    "collapsed": false,
    "pycharm": {
     "name": "#%% md\n"
    }
   }
  },
  {
   "cell_type": "code",
   "execution_count": 6,
   "outputs": [
    {
     "data": {
      "text/plain": "0.3333333333333333"
     },
     "execution_count": 6,
     "metadata": {},
     "output_type": "execute_result"
    }
   ],
   "source": [
    "number_alter_by_question = 3\n",
    "p = 1 / number_alter_by_question\n",
    "p"
   ],
   "metadata": {
    "collapsed": false,
    "pycharm": {
     "name": "#%%\n"
    }
   }
  },
  {
   "cell_type": "markdown",
   "source": [
    "<b>Qual a probabilidade de fracasso?</b>"
   ],
   "metadata": {
    "collapsed": false,
    "pycharm": {
     "name": "#%% md\n"
    }
   }
  },
  {
   "cell_type": "code",
   "execution_count": 7,
   "outputs": [
    {
     "data": {
      "text/plain": "0.6666666666666667"
     },
     "execution_count": 7,
     "metadata": {},
     "output_type": "execute_result"
    }
   ],
   "source": [
    "q = 1 - p\n",
    "q"
   ],
   "metadata": {
    "collapsed": false,
    "pycharm": {
     "name": "#%%\n"
    }
   }
  },
  {
   "cell_type": "markdown",
   "source": [
    "<b>Qual o total de eventos que deseja obter sucesso (k)?</b>"
   ],
   "metadata": {
    "collapsed": false,
    "pycharm": {
     "name": "#%% md\n"
    }
   }
  },
  {
   "cell_type": "code",
   "execution_count": 8,
   "outputs": [
    {
     "data": {
      "text/plain": "5"
     },
     "execution_count": 8,
     "metadata": {},
     "output_type": "execute_result"
    }
   ],
   "source": [
    "k = 5\n",
    "k"
   ],
   "metadata": {
    "collapsed": false,
    "pycharm": {
     "name": "#%%\n"
    }
   }
  },
  {
   "cell_type": "markdown",
   "source": [
    "<b>Solução 1</b>"
   ],
   "metadata": {
    "collapsed": false,
    "pycharm": {
     "name": "#%% md\n"
    }
   }
  },
  {
   "cell_type": "code",
   "execution_count": 9,
   "outputs": [
    {
     "name": "stdout",
     "output_type": "stream",
     "text": [
      "0.13656455 <= probabilidade de acertar 5 questões\n"
     ]
    }
   ],
   "source": [
    "proba = (comb(n, k) * (p ** k) * (q ** (n - k)))\n",
    "print(\"%0.8f <= probabilidade de acertar 5 questões\" % proba)"
   ],
   "metadata": {
    "collapsed": false,
    "pycharm": {
     "name": "#%%\n"
    }
   }
  },
  {
   "cell_type": "markdown",
   "source": [
    "<b>Solução 2</b>"
   ],
   "metadata": {
    "collapsed": false,
    "pycharm": {
     "name": "#%% md\n"
    }
   }
  },
  {
   "cell_type": "code",
   "execution_count": 10,
   "outputs": [
    {
     "name": "stdout",
     "output_type": "stream",
     "text": [
      "0.13656455 <= probabilidade de acertar 5 questões\n"
     ]
    }
   ],
   "source": [
    "proba = binom.pmf(k, n, p)\n",
    "print(\"%0.8f <= probabilidade de acertar 5 questões\" % proba)"
   ],
   "metadata": {
    "collapsed": false,
    "pycharm": {
     "name": "#%%\n"
    }
   }
  },
  {
   "cell_type": "markdown",
   "source": [
    "<h3>Probabilidade do candidato passar</h3>\n",
    "\n",
    "![Probabilidade de passar no exame](../data/images/statistics-proba-pass.png)"
   ],
   "metadata": {
    "collapsed": false,
    "pycharm": {
     "name": "#%% md\n"
    }
   }
  },
  {
   "cell_type": "code",
   "execution_count": 11,
   "outputs": [
    {
     "data": {
      "text/plain": "0.21312808006909492"
     },
     "execution_count": 11,
     "metadata": {},
     "output_type": "execute_result"
    }
   ],
   "source": [
    "binom.pmf(5, n, p) + binom.pmf(6, n, p) + binom.pmf(7, n, p) + binom.pmf(8, n, p) + binom.pmf(9, n, p) + binom.pmf(10, n, p)"
   ],
   "metadata": {
    "collapsed": false,
    "pycharm": {
     "name": "#%%\n"
    }
   }
  },
  {
   "cell_type": "code",
   "execution_count": 12,
   "outputs": [
    {
     "data": {
      "text/plain": "0.21312808006909492"
     },
     "execution_count": 12,
     "metadata": {},
     "output_type": "execute_result"
    }
   ],
   "source": [
    "binom.pmf([5,6,7,8,9,10], n, p).sum()"
   ],
   "metadata": {
    "collapsed": false,
    "pycharm": {
     "name": "#%%\n"
    }
   }
  },
  {
   "cell_type": "code",
   "execution_count": 13,
   "outputs": [
    {
     "data": {
      "text/plain": "0.21312808006909523"
     },
     "execution_count": 13,
     "metadata": {},
     "output_type": "execute_result"
    }
   ],
   "source": [
    "1 - binom.cdf(4, n, p)"
   ],
   "metadata": {
    "collapsed": false,
    "pycharm": {
     "name": "#%%\n"
    }
   }
  },
  {
   "cell_type": "code",
   "execution_count": 14,
   "outputs": [
    {
     "data": {
      "text/plain": "0.21312808006909525"
     },
     "execution_count": 14,
     "metadata": {},
     "output_type": "execute_result"
    }
   ],
   "source": [
    "binom.sf(4, n, p)"
   ],
   "metadata": {
    "collapsed": false,
    "pycharm": {
     "name": "#%%\n"
    }
   }
  },
  {
   "cell_type": "markdown",
   "source": [
    "<h3>2.1 Distribuição Binomial</h3>\n",
    "<hr>\n",
    "<p>\n",
    "Um evento <b>binomial</b> é caracterizado pela possibilidade de ocorrência de apenas duas categorias. Estas categorias são representadas\n",
    "por todo espaço de amostra, sendo também mutualmente excludentes, isto é, a ocorrência de uma\n",
    "</p>\n",
    "\n",
    "<br />\n",
    "<div center>\n",
    "<img alt=\"Probabilidade Binomial\" height=\"220\" src=\"../data/images/statistics-proba-binomial.png\" width=\"500\"/>\n",
    "</div>\n",
    "\n",
    "\n",
    "<p>Onde:</p>\n",
    "<p><b>p</b> = probabilidade de sucesso</p>\n",
    "<p><b>q</b> = (1 - p) = probabilidade de fracasso</p>\n",
    "<p><b>n</b> = número de eventos estudados</p>\n",
    "<p><b>k</b> = número de eventos desejados que tenham sucesso</p>"
   ],
   "metadata": {
    "collapsed": false,
    "pycharm": {
     "name": "#%% md\n"
    }
   }
  },
  {
   "cell_type": "markdown",
   "source": [
    "<h4>Experimento Binomial</h4>\n",
    "<ol>\n",
    "<li>Realização de <b>n</b> idênticos.</li>\n",
    "<li>Os ensaios são independentes.</li>\n",
    "<li>Somentes os dois resultados são possíveis, exemplo: Verdadeiro ou Falso; Cara ou Coroa; Sucesso ou Fracasso.\n",
    "<li>A probablidade de sucesso é representada por <b>p</b> e a de fracasso por <b>(1 - p = q)</b>. Estas probabilidade não se modificam de\n",
    "ensaio para ensaio</li>\n",
    "</ol>"
   ],
   "metadata": {
    "collapsed": false,
    "pycharm": {
     "name": "#%% md\n"
    }
   }
  },
  {
   "cell_type": "markdown",
   "source": [
    "<h4>Média da distribuição binomial</h4>\n",
    "<p>O valor esperado ou a média da distribuição binomial é igual ano número de experimentos realizados multiplicado pela change de\n",
    "ocorrência do evento.</p>\n",
    "\n",
    "<br />\n",
    "<div center>\n",
    "<img alt=\"Média da Distribuição Binomial\" height=\"220\" src=\"../data/images/statistics-media-dist-binomial.png\" width=\"500\"/>\n",
    "</div>\n"
   ],
   "metadata": {
    "collapsed": false,
    "pycharm": {
     "name": "#%% md\n"
    }
   }
  },
  {
   "cell_type": "markdown",
   "source": [
    "<h4>Desvio padrão da distribuição binomial</h4>\n",
    "<p>O desvio padrão é o produto entre o número de experimentos, a probabilidade de sucesso e a probablidade de fracasso</p>\n",
    "<br/>\n",
    "<div center>\n",
    "<img alt=\"Desvio Padrão da Distribuição Binomial\" height=\"220\" src=\"../data/images/statistics-std-binomial.png\" width=\"500\"/>\n",
    "</div>\n"
   ],
   "metadata": {
    "collapsed": false,
    "pycharm": {
     "name": "#%% md\n"
    }
   }
  },
  {
   "cell_type": "markdown",
   "source": [
    "<h4>Combinações:</h4>\n",
    "<p>Número de combinações de <b>n</b> objetos, tomados <b>k</b> a cada vez, e:</p>\n",
    "<br/>\n",
    "<div center>\n",
    "<img alt=\"Combinações\" height=\"220\" src=\"../data/images/statistics-comb.png\" width=\"500\"/>\n",
    "</div>\n"
   ],
   "metadata": {
    "collapsed": false,
    "pycharm": {
     "name": "#%% md\n"
    }
   }
  },
  {
   "cell_type": "markdown",
   "source": [
    "<h4>Exemplo: Mega Sena</h4>\n",
    "<p>Em um volante de loteria da Mega Sena temos um total de <b>60 números</b> para escolher. A aposta mínima é de seis números. Você\n",
    "que é curioso resolve calcular a probabilidade de acertar na Mega Sena com apenas um jogo. Para isso precisamos saber quantas combinações\n",
    "de seis números podem ser formadas com os 60 números disponíveis</p>\n",
    "<br/>\n",
    "<div center>\n",
    "<img alt=\"Mega Sena\" height=\"220\" src=\"../data/images/statistics-comb-mega-sena.png\" width=\"500\"/>\n",
    "</div>\n"
   ],
   "metadata": {
    "collapsed": false,
    "pycharm": {
     "name": "#%% md\n"
    }
   }
  },
  {
   "cell_type": "code",
   "execution_count": 15,
   "outputs": [
    {
     "data": {
      "text/plain": "50063860.0"
     },
     "execution_count": 15,
     "metadata": {},
     "output_type": "execute_result"
    }
   ],
   "source": [
    "combinations = comb(60, 6)\n",
    "combinations"
   ],
   "metadata": {
    "collapsed": false,
    "pycharm": {
     "name": "#%%\n"
    }
   }
  },
  {
   "cell_type": "code",
   "execution_count": 16,
   "outputs": [
    {
     "name": "stdout",
     "output_type": "stream",
     "text": [
      "0.000000019974489 <= Probabilidade de ganhar na Mega Sena com um Jogo\n"
     ]
    }
   ],
   "source": [
    "# Probabilidade de ganhar na Mega Sena com um jogo\n",
    "proba = 1 / combinations\n",
    "print('%0.15f <= Probabilidade de ganhar na Mega Sena com um Jogo' % proba)"
   ],
   "metadata": {
    "collapsed": false,
    "pycharm": {
     "name": "#%%\n"
    }
   }
  },
  {
   "cell_type": "markdown",
   "source": [
    "<p>\n",
    "Uma moeda, perfeitamente equilibrada, é lançada para o alto quatro vezes. Utilizando a distribuição binomial, obtenha a probabilidade de a moeda cair com a face coroa voltada para cima duas vezes.</p>"
   ],
   "metadata": {
    "collapsed": false,
    "pycharm": {
     "name": "#%% md\n"
    }
   }
  },
  {
   "cell_type": "code",
   "execution_count": 17,
   "outputs": [
    {
     "name": "stdout",
     "output_type": "stream",
     "text": [
      "37.50% <= probabilidade de dar cora duas vezes\n"
     ]
    }
   ],
   "source": [
    "print('{0:.2%} <= probabilidade de dar cora duas vezes'.format(binom.pmf(2, 4, (1/2))))"
   ],
   "metadata": {
    "collapsed": false,
    "pycharm": {
     "name": "#%%\n"
    }
   }
  },
  {
   "cell_type": "markdown",
   "source": [
    "<p>\n",
    "Um dado, perfeitamente equilibrado, é lançado para o alto dez vezes. Utilizando a distribuição binomial, obtenha a probabilidade de o dado cair com o número cinco voltado para cima pelo menos três vezes.</p>"
   ],
   "metadata": {
    "collapsed": false,
    "pycharm": {
     "name": "#%% md\n"
    }
   }
  },
  {
   "cell_type": "code",
   "execution_count": 18,
   "outputs": [
    {
     "name": "stdout",
     "output_type": "stream",
     "text": [
      "22.48% <= probabilidade do dado dar 5 voltado para cima pelo menos 3 vezes\n"
     ]
    }
   ],
   "source": [
    "print('{0:.2%} <= probabilidade do dado dar 5 voltado para cima pelo menos 3 vezes'.format(binom.sf(2, 10, (1/6))))"
   ],
   "metadata": {
    "collapsed": false,
    "pycharm": {
     "name": "#%%\n"
    }
   }
  },
  {
   "cell_type": "markdown",
   "source": [
    "<h3>Exemplo: Gincana</h3>\n",
    "<p>Uma cidade do interior realiza todos os anos uma gincana para arrecadar fundos para o hospital da cidade. Na última gincana se sabe que a <b>proporção de participantes do sexo feminino foi de 60%. O total de equipes, com 12 integrantes, inscritas na gincana deste ano é de 30</b>. Com as informações acima responda: Quantas equipes deverão ser formadas por 8 mulheres?</p>"
   ],
   "metadata": {
    "collapsed": false,
    "pycharm": {
     "name": "#%% md\n"
    }
   }
  },
  {
   "cell_type": "code",
   "execution_count": 20,
   "outputs": [
    {
     "name": "stdout",
     "output_type": "stream",
     "text": [
      "21.28% <= probabilidade de equipe formada por 8 mulheres\n"
     ]
    }
   ],
   "source": [
    "p = 0.6 # probabilidade de mulheres 60%\n",
    "n = 12 # 12 integrantes\n",
    "k = 8 # deve ser formada equipe de 8\n",
    "proba = binom.pmf(k, n, p)\n",
    "print('{0:.2%} <= probabilidade de equipe formada por 8 mulheres'.format(proba))"
   ],
   "metadata": {
    "collapsed": false,
    "pycharm": {
     "name": "#%%\n"
    }
   }
  },
  {
   "cell_type": "code",
   "execution_count": 26,
   "outputs": [
    {
     "name": "stdout",
     "output_type": "stream",
     "text": [
      "6.4 <= exatamente equipes formada por mulheres\n",
      "6 <= aproximadamente equipes formada por mulheres\n"
     ]
    }
   ],
   "source": [
    "women_team = 30 * proba\n",
    "print('{0:.2} <= exatamente equipes formada por mulheres'.format(women_team))\n",
    "print('{} <= aproximadamente equipes formada por mulheres'.format(round(women_team)))"
   ],
   "metadata": {
    "collapsed": false,
    "pycharm": {
     "name": "#%%\n"
    }
   }
  },
  {
   "cell_type": "markdown",
   "source": [
    "<p>Suponha que a probabilidade de um casal ter filhos com olhos azuis seja de 22%. Em 50 famílias, com 3 crianças cada uma, quantas podemos esperar que tenham dois filhos com olhos azuis?</p>"
   ],
   "metadata": {
    "collapsed": false,
    "pycharm": {
     "name": "#%% md\n"
    }
   }
  },
  {
   "cell_type": "code",
   "execution_count": 34,
   "outputs": [
    {
     "name": "stdout",
     "output_type": "stream",
     "text": [
      "11.33% <= probabilidade do casal ter filhos com olhos azuis\n",
      "5.66\n"
     ]
    }
   ],
   "source": [
    "p = 0.22\n",
    "n = 3\n",
    "k = 2\n",
    "proba = binom.pmf(k, n, p)\n",
    "print('{0:.2%} <= probabilidade do casal ter filhos com olhos azuis'.format(proba))\n",
    "print('{0:.3}'.format(50 * proba))"
   ],
   "metadata": {
    "collapsed": false,
    "pycharm": {
     "name": "#%%\n"
    }
   }
  },
  {
   "cell_type": "code",
   "execution_count": null,
   "outputs": [],
   "source": [],
   "metadata": {
    "collapsed": false,
    "pycharm": {
     "name": "#%%\n"
    }
   }
  },
  {
   "cell_type": "markdown",
   "source": [
    "<b style=\"color: red;\">Problema</b>\n",
    "<p>Um restaurante recebe em média <b>20 pedidos por hora</b>. Qual a change de que, em determinada hora escolhida ao acesso, o restaurante receba <b>15 pedidos</b>?"
   ],
   "metadata": {
    "collapsed": false,
    "pycharm": {
     "name": "#%% md\n"
    }
   }
  },
  {
   "cell_type": "markdown",
   "source": [
    "<h3>2.2 Distribuição Poisson</h3>\n",
    "<p>É empregada para descrever o número de ocorrência em um intervalo de tempo ou espaço específico. Os eventos são caracterizados pela possibilidade de contagem dos sucessos, mas a não possibilidade de contagem dos fracassos.<br/><br/>Como exemplos de processos onde podemos aplicar a distribuição de <b>Poisson</b> temos a determinação do número de clientes que entram em um loja em determinado hora, o número de carros que chegam em um drive-thru de uma lanchonete na hora do almoço, a determinação do número de acidentes registrados em um trecho de estrada etc..</p>\n",
    "\n",
    "<br/>\n",
    "<div center>\n",
    "<img alt=\"Distribuição Poisson\" height=\"220\" src=\"../data/images/statistics-distri-poisson.png\" width=\"500\"/>\n",
    "</div>\n",
    "\n",
    "\n",
    "<b>Onde:</b>\n",
    "<b>e = onstante cujo valor é 2.718281828459045</b>\n",
    "<b>u = representa o número médio de ocorrência em um determinado intervalo de tempo</b>\n",
    "<b>k = número de sucesso no intervalo desejado</b>"
   ],
   "metadata": {
    "collapsed": false,
    "pycharm": {
     "name": "#%% md\n"
    }
   }
  },
  {
   "cell_type": "markdown",
   "source": [
    "<h4>Experimento Poisson</h4>\n",
    "<ol>\n",
    "<li>A probabilidade de uma ocorrência <b style=\"text-decoration: underline;\">é a mesma em todo o intervalo observado</b></li>\n",
    "<li>O número de ocorrência em determinado intervalo é <b style=\"text-decoration: underline;\">independente</b> do número de ocorrência em observação</li>\n",
    "<li>A probabilidade de uma ocorrência é a mesma em intervalos de <b style=\"text-decoration: underline;\">igual comprimento</b></li>\n",
    "</ol>"
   ],
   "metadata": {
    "collapsed": false,
    "pycharm": {
     "name": "#%% md\n"
    }
   }
  },
  {
   "cell_type": "markdown",
   "source": [
    "<h4>Desvio padrão da distribuição Poisson</h4>\n",
    "<br />\n",
    "<div center>\n",
    "<img alt=\"Desvio Padrão da Distribuição Poisson\" height=\"220\" src=\"../data/images/statistics-std-poisson.png\" width=\"500\"/>\n",
    "</div>\n"
   ],
   "metadata": {
    "collapsed": false,
    "pycharm": {
     "name": "#%% md\n"
    }
   }
  },
  {
   "cell_type": "code",
   "execution_count": 36,
   "outputs": [
    {
     "data": {
      "text/plain": "2.718281828459045"
     },
     "execution_count": 36,
     "metadata": {},
     "output_type": "execute_result"
    }
   ],
   "source": [
    "np.e"
   ],
   "metadata": {
    "collapsed": false,
    "pycharm": {
     "name": "#%%\n"
    }
   }
  },
  {
   "cell_type": "markdown",
   "source": [
    "<h4>Exemplo: Delivery</h4>\n",
    "<p>Um restaurante recebe em média <b>20 pedidos por hora</b>. Qual a change de que, em determinada hora escolhida ao acaso, o restaurante receba <b>15 pedidos</b>?"
   ],
   "metadata": {
    "collapsed": false,
    "pycharm": {
     "name": "#%% md\n"
    }
   }
  },
  {
   "cell_type": "markdown",
   "source": [
    "<b>Qual o número médio de ocorrência por hora (u)?</b>"
   ],
   "metadata": {
    "collapsed": false,
    "pycharm": {
     "name": "#%% md\n"
    }
   }
  },
  {
   "cell_type": "code",
   "execution_count": 37,
   "outputs": [
    {
     "data": {
      "text/plain": "20"
     },
     "execution_count": 37,
     "metadata": {},
     "output_type": "execute_result"
    }
   ],
   "source": [
    "media = 20\n",
    "media"
   ],
   "metadata": {
    "collapsed": false,
    "pycharm": {
     "name": "#%%\n"
    }
   }
  },
  {
   "cell_type": "markdown",
   "source": [
    "<b>Qual o número de ocorrências que queremos obter no período (k)?</b>"
   ],
   "metadata": {
    "collapsed": false,
    "pycharm": {
     "name": "#%% md\n"
    }
   }
  },
  {
   "cell_type": "code",
   "execution_count": 38,
   "outputs": [
    {
     "data": {
      "text/plain": "15"
     },
     "execution_count": 38,
     "metadata": {},
     "output_type": "execute_result"
    }
   ],
   "source": [
    "k = 15\n",
    "k"
   ],
   "metadata": {
    "collapsed": false,
    "pycharm": {
     "name": "#%%\n"
    }
   }
  },
  {
   "cell_type": "markdown",
   "source": [
    "<b>Solução 1</b>"
   ],
   "metadata": {
    "collapsed": false,
    "pycharm": {
     "name": "#%% md\n"
    }
   }
  },
  {
   "cell_type": "code",
   "execution_count": 45,
   "outputs": [
    {
     "name": "stdout",
     "output_type": "stream",
     "text": [
      "0.05164885 <= probabilidade do restaurante receber 15 pedidos em uma hora por acaso\n",
      "5.16% <= probabilidade do restaurante receber 15 pedidos em uma hora por acaso\n"
     ]
    }
   ],
   "source": [
    "proba = ((np.e ** (-media)) * (media ** k)) / (np.math.factorial(k))\n",
    "print('%0.8f <= probabilidade do restaurante receber 15 pedidos em uma hora por acaso' % proba)\n",
    "print('{0:.2%} <= probabilidade do restaurante receber 15 pedidos em uma hora por acaso'.format(proba))"
   ],
   "metadata": {
    "collapsed": false,
    "pycharm": {
     "name": "#%%\n"
    }
   }
  },
  {
   "cell_type": "markdown",
   "source": [
    "<b>Solução 2</b>"
   ],
   "metadata": {
    "collapsed": false,
    "pycharm": {
     "name": "#%% md\n"
    }
   }
  },
  {
   "cell_type": "code",
   "execution_count": 49,
   "outputs": [
    {
     "name": "stdout",
     "output_type": "stream",
     "text": [
      "0.05164885 <= probabilidade do restaurante receber 15 pedidos em uma hora por acaso\n",
      "5.16% <= probabilidade do restaurante receber 15 pedidos em uma hora por acaso\n"
     ]
    }
   ],
   "source": [
    "proba = poisson.pmf(k, media)\n",
    "print('%0.8f <= probabilidade do restaurante receber 15 pedidos em uma hora por acaso' % proba)\n",
    "print('{0:.2%} <= probabilidade do restaurante receber 15 pedidos em uma hora por acaso'.format(proba))"
   ],
   "metadata": {
    "collapsed": false,
    "pycharm": {
     "name": "#%%\n"
    }
   }
  },
  {
   "cell_type": "markdown",
   "source": [
    "<b style=\"color: red;\">Problema</b>\n",
    "<p>O número médio de clientes que entram em uma padaria por hora é igual a 20. Obtenha a probabilidade de, na próxima hora, entrarem exatamente 25 clientes.</p>"
   ],
   "metadata": {
    "collapsed": false,
    "pycharm": {
     "name": "#%% md\n"
    }
   }
  },
  {
   "cell_type": "code",
   "execution_count": 51,
   "outputs": [
    {
     "name": "stdout",
     "output_type": "stream",
     "text": [
      "4.46% <= a probabilidade de na próxima hora entrerem 25 clientes\n"
     ]
    }
   ],
   "source": [
    "print('{0:.2%} <= a probabilidade de na próxima hora entrerem 25 clientes'.format(poisson.pmf(25, 20)))"
   ],
   "metadata": {
    "collapsed": false,
    "pycharm": {
     "name": "#%%\n"
    }
   }
  },
  {
   "cell_type": "markdown",
   "source": [
    "<b style=\"color: red\">Problema</b>\n",
    "\n",
    "<p><Em um estudo sobre as alturas dos moradores de uma cidade verificou-se que o conjunto de dados segue uma <b>distribuição aproximadamente normal</b> com <b>média 1,70</b> e <b>desvio padrão de 0,1</b>. com estas informações obtenha o seguinte conjunto de probabilidade:</p>\n",
    "\n",
    "<ul>\n",
    "<li><b>A</b> probabilidade de uma pessoa, selecionada ao acaso, ter menos de 1,80 metros.</li>\n",
    "<li><b>B</b> probabilidade de uma pessoa, selecionada ao acaso, ter entre 1,60 metros e 1,80 metros.</li>\n",
    "<li><b>C</b> probabilidade de uma pessoa, selecionada ao acaso, ter mais de 1,90 metros.</li>\n",
    "</ul>"
   ],
   "metadata": {
    "collapsed": false,
    "pycharm": {
     "name": "#%% md\n"
    }
   }
  },
  {
   "cell_type": "markdown",
   "source": [
    "<h3>2.3 Distribuição Normal</h3>\n",
    "<p>A distribuição normal é uma das mais utilizadas em estatísticas. É uma distribuição continua, onde a distribuição de frequência de uma variável quantitativa apresenta a forma de sino e é simétrica em relação a sua média</p>\n",
    "<br />\n",
    "<div center>\n",
    "<img alt=\"Distribuição Normal\" width=\"500\" height=\"220\" src=\"../data/images/statistics-distri-normal.png\"/>\n",
    "</div>\n"
   ],
   "metadata": {
    "collapsed": false,
    "pycharm": {
     "name": "#%% md\n"
    }
   }
  },
  {
   "cell_type": "markdown",
   "source": [
    "<h4>Características importantes</h4>\n",
    "<ol>\n",
    "<li>É simétrica em torno da média;</li>\n",
    "<li>A área sob a curva corresponde à proporção 1 ou 100%;</li>\n",
    "<li>As medidas de tendência central <b>(média, mediana e moda)</b> apresentam o mesmo valor;</li>\n",
    "<li>Os extremos da curva tendem ao infinito em ambas as direções e, teoricamente, jamais tocam o eixo X;</li>\n",
    "<li>O desvio padrão define o achatamento e largura da distribuição. Curvas mais largas e mais achatadas apresentam valores maiores de desvio padrão;</li>\n",
    "<li>A distribuição é definida por sua média e desvio padrão;</li>\n",
    "<li>A probabilidade sempre será igual à área sob a curva, delimitada pelos limites inferiores</li>\n",
    "</ol>\n",
    "\n",
    "<br />\n",
    "<div center>\n",
    "<img alt=\"Distribuição Normal Fórmula\" height=\"220\" src=\"../data/images/statistics-distri-normal-form.png\" width=\"500\"/>\n",
    "</div>\n",
    "\n",
    "\n",
    "<b>Onde:</b>\n",
    "<b>x = variável normal</b>\n",
    "<b>&sigma; = desvio padrão</b>\n",
    "<b>&mu; = média</b>\n",
    "\n",
    "<p>A probabilidade é obtida a partir da área sob a curva, delimitada pelos limites inferiores e superiores especificados, um exemplo pode ser visto abaixo:</p>\n",
    "\n",
    "<br />\n",
    "<div center>\n",
    "<img alt=\"Distribuição Normal com Limites\" height=\"220\" src=\"../data/images/statistics-distri-normal-with-limit.png\" width=\"500\"/>\n",
    "</div>\n",
    "\n",
    "<p>Para obter a área acima basta calcular a integral da função para os intervalos determinados, conforme abaixo</p>\n",
    "\n",
    "<br />\n",
    "<div center>\n",
    "<img alt=\"Distribuição Normal com Limites Fórmula\" height=\"220\" src=\"../data/images/statistics-distri-normal-with-limit-form.png\" width=\"500\"/>\n",
    "</div>\n",
    "\n",
    "\n",
    "<b>Onde:</b>\n",
    "<b>x = variável normal</b>\n",
    "<b>&sigma; = desvio padrão</b>\n",
    "<b>&mu; = média</b>\n",
    "<b>L<samp>i</samp> = limite inferior</b>\n",
    "<b>L<samp>s</samp> = limite superior</b>"
   ],
   "metadata": {
    "collapsed": false,
    "pycharm": {
     "name": "#%% md\n"
    }
   }
  },
  {
   "cell_type": "markdown",
   "source": [
    "<h4>Tabelas padronizadas</h4>\n",
    "<p>As tabelas padronizadas foram criadas para facilitar a obtenção dos valores das áreas sob a curva normal e eliminar a necessidade de solucionar integrais definidas. Para consultarmos os valores de uma tabela padronizada basta transformamos nossa variável normal Z. Esta variável Z representa o afastamento em desvios padrões de um valor da variável original em relação à média.</p>\n",
    "\n",
    "<br />\n",
    "<div center>\n",
    "<img alt=\"Tabela Padronizada\" height=\"220\" src=\"../data/images/statistics-distri-normal-table-std.png\" width=\"500\"/>\n",
    "</div>\n",
    "\n",
    "<b>Onde:</b>\n",
    "<b>x = variável normal com média &mu; e desvio padrão &sigma;</b>\n",
    "<b>&sigma; = desvio padrão</b>\n",
    "<b>&mu; = média</b>"
   ],
   "metadata": {
    "collapsed": false,
    "pycharm": {
     "name": "#%% md\n"
    }
   }
  },
  {
   "cell_type": "code",
   "execution_count": 3,
   "outputs": [
    {
     "data": {
      "text/plain": "Z       0.00    0.01    0.02    0.03    0.04    0.05    0.06    0.07    0.08  \\\n0.00  0.5000  0.5040  0.5080  0.5120  0.5160  0.5199  0.5239  0.5279  0.5319   \n0.10  0.5398  0.5438  0.5478  0.5517  0.5557  0.5596  0.5636  0.5675  0.5714   \n0.20  0.5793  0.5832  0.5871  0.5910  0.5948  0.5987  0.6026  0.6064  0.6103   \n0.30  0.6179  0.6217  0.6255  0.6293  0.6331  0.6368  0.6406  0.6443  0.6480   \n0.40  0.6554  0.6591  0.6628  0.6664  0.6700  0.6736  0.6772  0.6808  0.6844   \n0.50  0.6915  0.6950  0.6985  0.7019  0.7054  0.7088  0.7123  0.7157  0.7190   \n0.60  0.7257  0.7291  0.7324  0.7357  0.7389  0.7422  0.7454  0.7486  0.7517   \n0.70  0.7580  0.7611  0.7642  0.7673  0.7704  0.7734  0.7764  0.7794  0.7823   \n0.80  0.7881  0.7910  0.7939  0.7967  0.7995  0.8023  0.8051  0.8078  0.8106   \n0.90  0.8159  0.8186  0.8212  0.8238  0.8264  0.8289  0.8315  0.8340  0.8365   \n1.00  0.8413  0.8438  0.8461  0.8485  0.8508  0.8531  0.8554  0.8577  0.8599   \n1.10  0.8643  0.8665  0.8686  0.8708  0.8729  0.8749  0.8770  0.8790  0.8810   \n1.20  0.8849  0.8869  0.8888  0.8907  0.8925  0.8944  0.8962  0.8980  0.8997   \n1.30  0.9032  0.9049  0.9066  0.9082  0.9099  0.9115  0.9131  0.9147  0.9162   \n1.40  0.9192  0.9207  0.9222  0.9236  0.9251  0.9265  0.9279  0.9292  0.9306   \n1.50  0.9332  0.9345  0.9357  0.9370  0.9382  0.9394  0.9406  0.9418  0.9429   \n1.60  0.9452  0.9463  0.9474  0.9484  0.9495  0.9505  0.9515  0.9525  0.9535   \n1.70  0.9554  0.9564  0.9573  0.9582  0.9591  0.9599  0.9608  0.9616  0.9625   \n1.80  0.9641  0.9649  0.9656  0.9664  0.9671  0.9678  0.9686  0.9693  0.9699   \n1.90  0.9713  0.9719  0.9726  0.9732  0.9738  0.9744  0.9750  0.9756  0.9761   \n2.00  0.9772  0.9778  0.9783  0.9788  0.9793  0.9798  0.9803  0.9808  0.9812   \n2.10  0.9821  0.9826  0.9830  0.9834  0.9838  0.9842  0.9846  0.9850  0.9854   \n2.20  0.9861  0.9864  0.9868  0.9871  0.9875  0.9878  0.9881  0.9884  0.9887   \n2.30  0.9893  0.9896  0.9898  0.9901  0.9904  0.9906  0.9909  0.9911  0.9913   \n2.40  0.9918  0.9920  0.9922  0.9925  0.9927  0.9929  0.9931  0.9932  0.9934   \n2.50  0.9938  0.9940  0.9941  0.9943  0.9945  0.9946  0.9948  0.9949  0.9951   \n2.60  0.9953  0.9955  0.9956  0.9957  0.9959  0.9960  0.9961  0.9962  0.9963   \n2.70  0.9965  0.9966  0.9967  0.9968  0.9969  0.9970  0.9971  0.9972  0.9973   \n2.80  0.9974  0.9975  0.9976  0.9977  0.9977  0.9978  0.9979  0.9979  0.9980   \n2.90  0.9981  0.9982  0.9982  0.9983  0.9984  0.9984  0.9985  0.9985  0.9986   \n3.00  0.9987  0.9987  0.9987  0.9988  0.9988  0.9989  0.9989  0.9989  0.9990   \n3.10  0.9990  0.9991  0.9991  0.9991  0.9992  0.9992  0.9992  0.9992  0.9993   \n3.20  0.9993  0.9993  0.9994  0.9994  0.9994  0.9994  0.9994  0.9995  0.9995   \n3.30  0.9995  0.9995  0.9995  0.9996  0.9996  0.9996  0.9996  0.9996  0.9996   \n3.40  0.9997  0.9997  0.9997  0.9997  0.9997  0.9997  0.9997  0.9997  0.9997   \n3.50  0.9998  0.9998  0.9998  0.9998  0.9998  0.9998  0.9998  0.9998  0.9998   \n3.60  0.9998  0.9998  0.9999  0.9999  0.9999  0.9999  0.9999  0.9999  0.9999   \n3.70  0.9999  0.9999  0.9999  0.9999  0.9999  0.9999  0.9999  0.9999  0.9999   \n3.80  0.9999  0.9999  0.9999  0.9999  0.9999  0.9999  0.9999  0.9999  0.9999   \n3.90  1.0000  1.0000  1.0000  1.0000  1.0000  1.0000  1.0000  1.0000  1.0000   \n\nZ       0.09  \n0.00  0.5359  \n0.10  0.5753  \n0.20  0.6141  \n0.30  0.6517  \n0.40  0.6879  \n0.50  0.7224  \n0.60  0.7549  \n0.70  0.7852  \n0.80  0.8133  \n0.90  0.8389  \n1.00  0.8621  \n1.10  0.8830  \n1.20  0.9015  \n1.30  0.9177  \n1.40  0.9319  \n1.50  0.9441  \n1.60  0.9545  \n1.70  0.9633  \n1.80  0.9706  \n1.90  0.9767  \n2.00  0.9817  \n2.10  0.9857  \n2.20  0.9890  \n2.30  0.9916  \n2.40  0.9936  \n2.50  0.9952  \n2.60  0.9964  \n2.70  0.9974  \n2.80  0.9981  \n2.90  0.9986  \n3.00  0.9990  \n3.10  0.9993  \n3.20  0.9995  \n3.30  0.9997  \n3.40  0.9998  \n3.50  0.9998  \n3.60  0.9999  \n3.70  0.9999  \n3.80  0.9999  \n3.90  1.0000  ",
      "text/html": "<div>\n<style scoped>\n    .dataframe tbody tr th:only-of-type {\n        vertical-align: middle;\n    }\n\n    .dataframe tbody tr th {\n        vertical-align: top;\n    }\n\n    .dataframe thead th {\n        text-align: right;\n    }\n</style>\n<table border=\"1\" class=\"dataframe\">\n  <thead>\n    <tr style=\"text-align: right;\">\n      <th>Z</th>\n      <th>0.00</th>\n      <th>0.01</th>\n      <th>0.02</th>\n      <th>0.03</th>\n      <th>0.04</th>\n      <th>0.05</th>\n      <th>0.06</th>\n      <th>0.07</th>\n      <th>0.08</th>\n      <th>0.09</th>\n    </tr>\n  </thead>\n  <tbody>\n    <tr>\n      <th>0.00</th>\n      <td>0.5000</td>\n      <td>0.5040</td>\n      <td>0.5080</td>\n      <td>0.5120</td>\n      <td>0.5160</td>\n      <td>0.5199</td>\n      <td>0.5239</td>\n      <td>0.5279</td>\n      <td>0.5319</td>\n      <td>0.5359</td>\n    </tr>\n    <tr>\n      <th>0.10</th>\n      <td>0.5398</td>\n      <td>0.5438</td>\n      <td>0.5478</td>\n      <td>0.5517</td>\n      <td>0.5557</td>\n      <td>0.5596</td>\n      <td>0.5636</td>\n      <td>0.5675</td>\n      <td>0.5714</td>\n      <td>0.5753</td>\n    </tr>\n    <tr>\n      <th>0.20</th>\n      <td>0.5793</td>\n      <td>0.5832</td>\n      <td>0.5871</td>\n      <td>0.5910</td>\n      <td>0.5948</td>\n      <td>0.5987</td>\n      <td>0.6026</td>\n      <td>0.6064</td>\n      <td>0.6103</td>\n      <td>0.6141</td>\n    </tr>\n    <tr>\n      <th>0.30</th>\n      <td>0.6179</td>\n      <td>0.6217</td>\n      <td>0.6255</td>\n      <td>0.6293</td>\n      <td>0.6331</td>\n      <td>0.6368</td>\n      <td>0.6406</td>\n      <td>0.6443</td>\n      <td>0.6480</td>\n      <td>0.6517</td>\n    </tr>\n    <tr>\n      <th>0.40</th>\n      <td>0.6554</td>\n      <td>0.6591</td>\n      <td>0.6628</td>\n      <td>0.6664</td>\n      <td>0.6700</td>\n      <td>0.6736</td>\n      <td>0.6772</td>\n      <td>0.6808</td>\n      <td>0.6844</td>\n      <td>0.6879</td>\n    </tr>\n    <tr>\n      <th>0.50</th>\n      <td>0.6915</td>\n      <td>0.6950</td>\n      <td>0.6985</td>\n      <td>0.7019</td>\n      <td>0.7054</td>\n      <td>0.7088</td>\n      <td>0.7123</td>\n      <td>0.7157</td>\n      <td>0.7190</td>\n      <td>0.7224</td>\n    </tr>\n    <tr>\n      <th>0.60</th>\n      <td>0.7257</td>\n      <td>0.7291</td>\n      <td>0.7324</td>\n      <td>0.7357</td>\n      <td>0.7389</td>\n      <td>0.7422</td>\n      <td>0.7454</td>\n      <td>0.7486</td>\n      <td>0.7517</td>\n      <td>0.7549</td>\n    </tr>\n    <tr>\n      <th>0.70</th>\n      <td>0.7580</td>\n      <td>0.7611</td>\n      <td>0.7642</td>\n      <td>0.7673</td>\n      <td>0.7704</td>\n      <td>0.7734</td>\n      <td>0.7764</td>\n      <td>0.7794</td>\n      <td>0.7823</td>\n      <td>0.7852</td>\n    </tr>\n    <tr>\n      <th>0.80</th>\n      <td>0.7881</td>\n      <td>0.7910</td>\n      <td>0.7939</td>\n      <td>0.7967</td>\n      <td>0.7995</td>\n      <td>0.8023</td>\n      <td>0.8051</td>\n      <td>0.8078</td>\n      <td>0.8106</td>\n      <td>0.8133</td>\n    </tr>\n    <tr>\n      <th>0.90</th>\n      <td>0.8159</td>\n      <td>0.8186</td>\n      <td>0.8212</td>\n      <td>0.8238</td>\n      <td>0.8264</td>\n      <td>0.8289</td>\n      <td>0.8315</td>\n      <td>0.8340</td>\n      <td>0.8365</td>\n      <td>0.8389</td>\n    </tr>\n    <tr>\n      <th>1.00</th>\n      <td>0.8413</td>\n      <td>0.8438</td>\n      <td>0.8461</td>\n      <td>0.8485</td>\n      <td>0.8508</td>\n      <td>0.8531</td>\n      <td>0.8554</td>\n      <td>0.8577</td>\n      <td>0.8599</td>\n      <td>0.8621</td>\n    </tr>\n    <tr>\n      <th>1.10</th>\n      <td>0.8643</td>\n      <td>0.8665</td>\n      <td>0.8686</td>\n      <td>0.8708</td>\n      <td>0.8729</td>\n      <td>0.8749</td>\n      <td>0.8770</td>\n      <td>0.8790</td>\n      <td>0.8810</td>\n      <td>0.8830</td>\n    </tr>\n    <tr>\n      <th>1.20</th>\n      <td>0.8849</td>\n      <td>0.8869</td>\n      <td>0.8888</td>\n      <td>0.8907</td>\n      <td>0.8925</td>\n      <td>0.8944</td>\n      <td>0.8962</td>\n      <td>0.8980</td>\n      <td>0.8997</td>\n      <td>0.9015</td>\n    </tr>\n    <tr>\n      <th>1.30</th>\n      <td>0.9032</td>\n      <td>0.9049</td>\n      <td>0.9066</td>\n      <td>0.9082</td>\n      <td>0.9099</td>\n      <td>0.9115</td>\n      <td>0.9131</td>\n      <td>0.9147</td>\n      <td>0.9162</td>\n      <td>0.9177</td>\n    </tr>\n    <tr>\n      <th>1.40</th>\n      <td>0.9192</td>\n      <td>0.9207</td>\n      <td>0.9222</td>\n      <td>0.9236</td>\n      <td>0.9251</td>\n      <td>0.9265</td>\n      <td>0.9279</td>\n      <td>0.9292</td>\n      <td>0.9306</td>\n      <td>0.9319</td>\n    </tr>\n    <tr>\n      <th>1.50</th>\n      <td>0.9332</td>\n      <td>0.9345</td>\n      <td>0.9357</td>\n      <td>0.9370</td>\n      <td>0.9382</td>\n      <td>0.9394</td>\n      <td>0.9406</td>\n      <td>0.9418</td>\n      <td>0.9429</td>\n      <td>0.9441</td>\n    </tr>\n    <tr>\n      <th>1.60</th>\n      <td>0.9452</td>\n      <td>0.9463</td>\n      <td>0.9474</td>\n      <td>0.9484</td>\n      <td>0.9495</td>\n      <td>0.9505</td>\n      <td>0.9515</td>\n      <td>0.9525</td>\n      <td>0.9535</td>\n      <td>0.9545</td>\n    </tr>\n    <tr>\n      <th>1.70</th>\n      <td>0.9554</td>\n      <td>0.9564</td>\n      <td>0.9573</td>\n      <td>0.9582</td>\n      <td>0.9591</td>\n      <td>0.9599</td>\n      <td>0.9608</td>\n      <td>0.9616</td>\n      <td>0.9625</td>\n      <td>0.9633</td>\n    </tr>\n    <tr>\n      <th>1.80</th>\n      <td>0.9641</td>\n      <td>0.9649</td>\n      <td>0.9656</td>\n      <td>0.9664</td>\n      <td>0.9671</td>\n      <td>0.9678</td>\n      <td>0.9686</td>\n      <td>0.9693</td>\n      <td>0.9699</td>\n      <td>0.9706</td>\n    </tr>\n    <tr>\n      <th>1.90</th>\n      <td>0.9713</td>\n      <td>0.9719</td>\n      <td>0.9726</td>\n      <td>0.9732</td>\n      <td>0.9738</td>\n      <td>0.9744</td>\n      <td>0.9750</td>\n      <td>0.9756</td>\n      <td>0.9761</td>\n      <td>0.9767</td>\n    </tr>\n    <tr>\n      <th>2.00</th>\n      <td>0.9772</td>\n      <td>0.9778</td>\n      <td>0.9783</td>\n      <td>0.9788</td>\n      <td>0.9793</td>\n      <td>0.9798</td>\n      <td>0.9803</td>\n      <td>0.9808</td>\n      <td>0.9812</td>\n      <td>0.9817</td>\n    </tr>\n    <tr>\n      <th>2.10</th>\n      <td>0.9821</td>\n      <td>0.9826</td>\n      <td>0.9830</td>\n      <td>0.9834</td>\n      <td>0.9838</td>\n      <td>0.9842</td>\n      <td>0.9846</td>\n      <td>0.9850</td>\n      <td>0.9854</td>\n      <td>0.9857</td>\n    </tr>\n    <tr>\n      <th>2.20</th>\n      <td>0.9861</td>\n      <td>0.9864</td>\n      <td>0.9868</td>\n      <td>0.9871</td>\n      <td>0.9875</td>\n      <td>0.9878</td>\n      <td>0.9881</td>\n      <td>0.9884</td>\n      <td>0.9887</td>\n      <td>0.9890</td>\n    </tr>\n    <tr>\n      <th>2.30</th>\n      <td>0.9893</td>\n      <td>0.9896</td>\n      <td>0.9898</td>\n      <td>0.9901</td>\n      <td>0.9904</td>\n      <td>0.9906</td>\n      <td>0.9909</td>\n      <td>0.9911</td>\n      <td>0.9913</td>\n      <td>0.9916</td>\n    </tr>\n    <tr>\n      <th>2.40</th>\n      <td>0.9918</td>\n      <td>0.9920</td>\n      <td>0.9922</td>\n      <td>0.9925</td>\n      <td>0.9927</td>\n      <td>0.9929</td>\n      <td>0.9931</td>\n      <td>0.9932</td>\n      <td>0.9934</td>\n      <td>0.9936</td>\n    </tr>\n    <tr>\n      <th>2.50</th>\n      <td>0.9938</td>\n      <td>0.9940</td>\n      <td>0.9941</td>\n      <td>0.9943</td>\n      <td>0.9945</td>\n      <td>0.9946</td>\n      <td>0.9948</td>\n      <td>0.9949</td>\n      <td>0.9951</td>\n      <td>0.9952</td>\n    </tr>\n    <tr>\n      <th>2.60</th>\n      <td>0.9953</td>\n      <td>0.9955</td>\n      <td>0.9956</td>\n      <td>0.9957</td>\n      <td>0.9959</td>\n      <td>0.9960</td>\n      <td>0.9961</td>\n      <td>0.9962</td>\n      <td>0.9963</td>\n      <td>0.9964</td>\n    </tr>\n    <tr>\n      <th>2.70</th>\n      <td>0.9965</td>\n      <td>0.9966</td>\n      <td>0.9967</td>\n      <td>0.9968</td>\n      <td>0.9969</td>\n      <td>0.9970</td>\n      <td>0.9971</td>\n      <td>0.9972</td>\n      <td>0.9973</td>\n      <td>0.9974</td>\n    </tr>\n    <tr>\n      <th>2.80</th>\n      <td>0.9974</td>\n      <td>0.9975</td>\n      <td>0.9976</td>\n      <td>0.9977</td>\n      <td>0.9977</td>\n      <td>0.9978</td>\n      <td>0.9979</td>\n      <td>0.9979</td>\n      <td>0.9980</td>\n      <td>0.9981</td>\n    </tr>\n    <tr>\n      <th>2.90</th>\n      <td>0.9981</td>\n      <td>0.9982</td>\n      <td>0.9982</td>\n      <td>0.9983</td>\n      <td>0.9984</td>\n      <td>0.9984</td>\n      <td>0.9985</td>\n      <td>0.9985</td>\n      <td>0.9986</td>\n      <td>0.9986</td>\n    </tr>\n    <tr>\n      <th>3.00</th>\n      <td>0.9987</td>\n      <td>0.9987</td>\n      <td>0.9987</td>\n      <td>0.9988</td>\n      <td>0.9988</td>\n      <td>0.9989</td>\n      <td>0.9989</td>\n      <td>0.9989</td>\n      <td>0.9990</td>\n      <td>0.9990</td>\n    </tr>\n    <tr>\n      <th>3.10</th>\n      <td>0.9990</td>\n      <td>0.9991</td>\n      <td>0.9991</td>\n      <td>0.9991</td>\n      <td>0.9992</td>\n      <td>0.9992</td>\n      <td>0.9992</td>\n      <td>0.9992</td>\n      <td>0.9993</td>\n      <td>0.9993</td>\n    </tr>\n    <tr>\n      <th>3.20</th>\n      <td>0.9993</td>\n      <td>0.9993</td>\n      <td>0.9994</td>\n      <td>0.9994</td>\n      <td>0.9994</td>\n      <td>0.9994</td>\n      <td>0.9994</td>\n      <td>0.9995</td>\n      <td>0.9995</td>\n      <td>0.9995</td>\n    </tr>\n    <tr>\n      <th>3.30</th>\n      <td>0.9995</td>\n      <td>0.9995</td>\n      <td>0.9995</td>\n      <td>0.9996</td>\n      <td>0.9996</td>\n      <td>0.9996</td>\n      <td>0.9996</td>\n      <td>0.9996</td>\n      <td>0.9996</td>\n      <td>0.9997</td>\n    </tr>\n    <tr>\n      <th>3.40</th>\n      <td>0.9997</td>\n      <td>0.9997</td>\n      <td>0.9997</td>\n      <td>0.9997</td>\n      <td>0.9997</td>\n      <td>0.9997</td>\n      <td>0.9997</td>\n      <td>0.9997</td>\n      <td>0.9997</td>\n      <td>0.9998</td>\n    </tr>\n    <tr>\n      <th>3.50</th>\n      <td>0.9998</td>\n      <td>0.9998</td>\n      <td>0.9998</td>\n      <td>0.9998</td>\n      <td>0.9998</td>\n      <td>0.9998</td>\n      <td>0.9998</td>\n      <td>0.9998</td>\n      <td>0.9998</td>\n      <td>0.9998</td>\n    </tr>\n    <tr>\n      <th>3.60</th>\n      <td>0.9998</td>\n      <td>0.9998</td>\n      <td>0.9999</td>\n      <td>0.9999</td>\n      <td>0.9999</td>\n      <td>0.9999</td>\n      <td>0.9999</td>\n      <td>0.9999</td>\n      <td>0.9999</td>\n      <td>0.9999</td>\n    </tr>\n    <tr>\n      <th>3.70</th>\n      <td>0.9999</td>\n      <td>0.9999</td>\n      <td>0.9999</td>\n      <td>0.9999</td>\n      <td>0.9999</td>\n      <td>0.9999</td>\n      <td>0.9999</td>\n      <td>0.9999</td>\n      <td>0.9999</td>\n      <td>0.9999</td>\n    </tr>\n    <tr>\n      <th>3.80</th>\n      <td>0.9999</td>\n      <td>0.9999</td>\n      <td>0.9999</td>\n      <td>0.9999</td>\n      <td>0.9999</td>\n      <td>0.9999</td>\n      <td>0.9999</td>\n      <td>0.9999</td>\n      <td>0.9999</td>\n      <td>0.9999</td>\n    </tr>\n    <tr>\n      <th>3.90</th>\n      <td>1.0000</td>\n      <td>1.0000</td>\n      <td>1.0000</td>\n      <td>1.0000</td>\n      <td>1.0000</td>\n      <td>1.0000</td>\n      <td>1.0000</td>\n      <td>1.0000</td>\n      <td>1.0000</td>\n      <td>1.0000</td>\n    </tr>\n  </tbody>\n</table>\n</div>"
     },
     "execution_count": 3,
     "metadata": {},
     "output_type": "execute_result"
    }
   ],
   "source": [
    "table_normal_std = pd.DataFrame(\n",
    "    [],\n",
    "    index=[\"{0:0.2f}\".format(i / 100) for i in range(0, 400, 10)],\n",
    "    columns=[\"{0:0.2f}\".format(i / 100) for i in range(0, 10)]\n",
    ")\n",
    "\n",
    "for index in table_normal_std.index:\n",
    "    for column in table_normal_std.columns:\n",
    "        Z = np.round(float(index) + float(column), 2)\n",
    "        table_normal_std.loc[index, column] = \"{0:0.4f}\".format(norm.cdf(Z))\n",
    "\n",
    "table_normal_std.rename_axis('Z', axis='columns', inplace=True)\n",
    "table_normal_std"
   ],
   "metadata": {
    "collapsed": false,
    "pycharm": {
     "name": "#%%\n"
    }
   }
  },
  {
   "cell_type": "markdown",
   "source": [
    "<br />\n",
    "<div center>\n",
    "<img alt=\"Área Probabilidade\" height=\"220\" src=\"../data/images/statistics-distri-normal-area-proba.png\" width=\"500\"/>\n",
    "</div>\n"
   ],
   "metadata": {
    "collapsed": false,
    "pycharm": {
     "name": "#%% md\n"
    }
   }
  }
 ],
 "metadata": {
  "kernelspec": {
   "display_name": "Python 3",
   "language": "python",
   "name": "python3"
  },
  "language_info": {
   "codemirror_mode": {
    "name": "ipython",
    "version": 2
   },
   "file_extension": ".py",
   "mimetype": "text/x-python",
   "name": "python",
   "nbconvert_exporter": "python",
   "pygments_lexer": "ipython2",
   "version": "2.7.6"
  }
 },
 "nbformat": 4,
 "nbformat_minor": 0
}