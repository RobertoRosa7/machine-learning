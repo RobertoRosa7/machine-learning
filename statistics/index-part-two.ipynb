{
 "cells": [
  {
   "cell_type": "markdown",
   "source": [
    "<h1>CURSO DE ESTATÍSTICA - PARTE 2</h1>\n",
    "<hr>"
   ],
   "metadata": {
    "collapsed": false,
    "pycharm": {
     "name": "#%% md\n"
    }
   }
  },
  {
   "cell_type": "code",
   "execution_count": 1,
   "metadata": {
    "collapsed": true,
    "pycharm": {
     "name": "#%%\n"
    }
   },
   "outputs": [
    {
     "name": "stdout",
     "output_type": "stream",
     "text": [
      "Pandas version => 1.4.2\n",
      "Numpy version => 1.22.2\n",
      "Scipy version => 1.8.0\n",
      "Matplotlib version => 3.5.2\n"
     ]
    }
   ],
   "source": [
    "import pandas, numpy, scipy, matplotlib\n",
    "\n",
    "print('Pandas version => %s' % pandas.__version__)\n",
    "print('Numpy version => %s' % numpy.__version__)\n",
    "print('Scipy version => %s' % scipy.__version__)\n",
    "print('Matplotlib version => %s' % matplotlib.__version__)"
   ]
  },
  {
   "cell_type": "code",
   "execution_count": 14,
   "outputs": [],
   "source": [
    "import pandas as pd\n",
    "from scipy.special import comb\n",
    "from scipy.stats import binom"
   ],
   "metadata": {
    "collapsed": false,
    "pycharm": {
     "name": "#%%\n"
    }
   }
  },
  {
   "cell_type": "code",
   "execution_count": 3,
   "outputs": [
    {
     "data": {
      "text/plain": "   UF  Sexo  Idade  Cor  Anos de Estudo  Renda    Altura\n0  11     0     23    8              12    800  1.603808\n1  11     1     23    2              12   1150  1.739790\n2  11     1     35    8              15    880  1.760444\n3  11     0     46    2               6   3500  1.783158\n4  11     1     47    8               9    150  1.690631",
      "text/html": "<div>\n<style scoped>\n    .dataframe tbody tr th:only-of-type {\n        vertical-align: middle;\n    }\n\n    .dataframe tbody tr th {\n        vertical-align: top;\n    }\n\n    .dataframe thead th {\n        text-align: right;\n    }\n</style>\n<table border=\"1\" class=\"dataframe\">\n  <thead>\n    <tr style=\"text-align: right;\">\n      <th></th>\n      <th>UF</th>\n      <th>Sexo</th>\n      <th>Idade</th>\n      <th>Cor</th>\n      <th>Anos de Estudo</th>\n      <th>Renda</th>\n      <th>Altura</th>\n    </tr>\n  </thead>\n  <tbody>\n    <tr>\n      <th>0</th>\n      <td>11</td>\n      <td>0</td>\n      <td>23</td>\n      <td>8</td>\n      <td>12</td>\n      <td>800</td>\n      <td>1.603808</td>\n    </tr>\n    <tr>\n      <th>1</th>\n      <td>11</td>\n      <td>1</td>\n      <td>23</td>\n      <td>2</td>\n      <td>12</td>\n      <td>1150</td>\n      <td>1.739790</td>\n    </tr>\n    <tr>\n      <th>2</th>\n      <td>11</td>\n      <td>1</td>\n      <td>35</td>\n      <td>8</td>\n      <td>15</td>\n      <td>880</td>\n      <td>1.760444</td>\n    </tr>\n    <tr>\n      <th>3</th>\n      <td>11</td>\n      <td>0</td>\n      <td>46</td>\n      <td>2</td>\n      <td>6</td>\n      <td>3500</td>\n      <td>1.783158</td>\n    </tr>\n    <tr>\n      <th>4</th>\n      <td>11</td>\n      <td>1</td>\n      <td>47</td>\n      <td>8</td>\n      <td>9</td>\n      <td>150</td>\n      <td>1.690631</td>\n    </tr>\n  </tbody>\n</table>\n</div>"
     },
     "execution_count": 3,
     "metadata": {},
     "output_type": "execute_result"
    }
   ],
   "source": [
    "df = pd.read_csv('../data/files/estatistica_dados.csv')\n",
    "df.head()"
   ],
   "metadata": {
    "collapsed": false,
    "pycharm": {
     "name": "#%%\n"
    }
   }
  },
  {
   "cell_type": "markdown",
   "source": [
    "<h2>2 DISTRIBUIÇÃO DE PROBABILIDADE</h2>\n",
    "<hr>"
   ],
   "metadata": {
    "collapsed": false,
    "pycharm": {
     "name": "#%% md\n"
    }
   }
  },
  {
   "cell_type": "markdown",
   "source": [
    "<span style=\"color: red\"><b>Problema</b></span>\n",
    "<hr>\n",
    "<p>\n",
    "Em concurso para preencher uma vaga de cientista de dados temos um total de <b>10 questões</b> de multipla escolha\n",
    "com <b>3 alternativas possíveis</b> em cada questão. <b>Cada questão tem o mesmo valor.</b> Suponha que um candidato resolva\n",
    "se aventurar sem ter estudado nada. Ele resolve fazer a prova de olhos vendados e chtar todas as resposta. Assumindo que a prova\n",
    "<b>Vale 10 pontos e a nota de corte seja 5</b>, obtenha a probabilidade desde candidato de <b>acertar 5 questões</b> e também a probabilidade desde candidado <b>passar para a próxima etapa do processo seletivo.</b>\n",
    "</p>\n",
    "\n",
    "<h5>Qual o número de ensaios (n)?</h5>"
   ],
   "metadata": {
    "collapsed": false,
    "pycharm": {
     "name": "#%% md\n"
    }
   }
  },
  {
   "cell_type": "code",
   "execution_count": 6,
   "outputs": [
    {
     "data": {
      "text/plain": "10"
     },
     "execution_count": 6,
     "metadata": {},
     "output_type": "execute_result"
    }
   ],
   "source": [
    "n = 10\n",
    "n"
   ],
   "metadata": {
    "collapsed": false,
    "pycharm": {
     "name": "#%%\n"
    }
   }
  },
  {
   "cell_type": "markdown",
   "source": [
    "<b>Os ensaios são indenpendentes?</b>\n",
    "<p>Sim. A opção escolhida em uma questão não influencia em nada a opção escolhida em outra questão</p>\n",
    "<br/>\n",
    "\n",
    "<b>Somente dois resultados são possíveis em cada ensaio?</b>\n",
    "<p>Sim. O candidato tem duas possibilidade - CERTA OU ERRADA para cada questão.</p>\n",
    "<br/>\n",
    "\n",
    "<b>Qual a probabilidade de sucesso (p)?</b>"
   ],
   "metadata": {
    "collapsed": false,
    "pycharm": {
     "name": "#%% md\n"
    }
   }
  },
  {
   "cell_type": "code",
   "execution_count": 7,
   "outputs": [
    {
     "data": {
      "text/plain": "0.3333333333333333"
     },
     "execution_count": 7,
     "metadata": {},
     "output_type": "execute_result"
    }
   ],
   "source": [
    "number_alter_by_question = 3\n",
    "p = 1 / number_alter_by_question\n",
    "p"
   ],
   "metadata": {
    "collapsed": false,
    "pycharm": {
     "name": "#%%\n"
    }
   }
  },
  {
   "cell_type": "markdown",
   "source": [
    "<b>Qual a probabilidade de fracasso?</b>"
   ],
   "metadata": {
    "collapsed": false,
    "pycharm": {
     "name": "#%% md\n"
    }
   }
  },
  {
   "cell_type": "code",
   "execution_count": 8,
   "outputs": [
    {
     "data": {
      "text/plain": "0.6666666666666667"
     },
     "execution_count": 8,
     "metadata": {},
     "output_type": "execute_result"
    }
   ],
   "source": [
    "q = 1 - p\n",
    "q"
   ],
   "metadata": {
    "collapsed": false,
    "pycharm": {
     "name": "#%%\n"
    }
   }
  },
  {
   "cell_type": "markdown",
   "source": [
    "<b>Qual o total de eventos que deseja obter sucesso (k)?</b>"
   ],
   "metadata": {
    "collapsed": false,
    "pycharm": {
     "name": "#%% md\n"
    }
   }
  },
  {
   "cell_type": "code",
   "execution_count": 9,
   "outputs": [
    {
     "data": {
      "text/plain": "5"
     },
     "execution_count": 9,
     "metadata": {},
     "output_type": "execute_result"
    }
   ],
   "source": [
    "k = 5\n",
    "k"
   ],
   "metadata": {
    "collapsed": false,
    "pycharm": {
     "name": "#%%\n"
    }
   }
  },
  {
   "cell_type": "markdown",
   "source": [
    "<b>Solução 1</b>"
   ],
   "metadata": {
    "collapsed": false,
    "pycharm": {
     "name": "#%% md\n"
    }
   }
  },
  {
   "cell_type": "code",
   "execution_count": 13,
   "outputs": [
    {
     "name": "stdout",
     "output_type": "stream",
     "text": [
      "0.13656455 <= probabilidade de acertar 5 questões\n"
     ]
    }
   ],
   "source": [
    "proba = (comb(n, k) * (p ** k) * (q ** (n - k)))\n",
    "print(\"%0.8f <= probabilidade de acertar 5 questões\" % proba)"
   ],
   "metadata": {
    "collapsed": false,
    "pycharm": {
     "name": "#%%\n"
    }
   }
  },
  {
   "cell_type": "markdown",
   "source": [
    "<b>Solução 2</b>"
   ],
   "metadata": {
    "collapsed": false,
    "pycharm": {
     "name": "#%% md\n"
    }
   }
  },
  {
   "cell_type": "code",
   "execution_count": 15,
   "outputs": [
    {
     "name": "stdout",
     "output_type": "stream",
     "text": [
      "0.13656455 <= probabilidade de acertar 5 questões\n"
     ]
    }
   ],
   "source": [
    "proba = binom.pmf(k, n, p)\n",
    "print(\"%0.8f <= probabilidade de acertar 5 questões\" % proba)"
   ],
   "metadata": {
    "collapsed": false,
    "pycharm": {
     "name": "#%%\n"
    }
   }
  },
  {
   "cell_type": "markdown",
   "source": [
    "<h3>Probabilidade do candidato passar</h3>\n",
    "\n",
    "![Probabilidade de passar no exame](../data/images/statistics-proba-pass.png)"
   ],
   "metadata": {
    "collapsed": false,
    "pycharm": {
     "name": "#%% md\n"
    }
   }
  },
  {
   "cell_type": "code",
   "execution_count": 16,
   "outputs": [
    {
     "data": {
      "text/plain": "0.21312808006909492"
     },
     "execution_count": 16,
     "metadata": {},
     "output_type": "execute_result"
    }
   ],
   "source": [
    "binom.pmf(5, n, p) + binom.pmf(6, n, p) + binom.pmf(7, n, p) + binom.pmf(8, n, p) + binom.pmf(9, n, p) + binom.pmf(10, n, p)"
   ],
   "metadata": {
    "collapsed": false,
    "pycharm": {
     "name": "#%%\n"
    }
   }
  },
  {
   "cell_type": "code",
   "execution_count": 17,
   "outputs": [
    {
     "data": {
      "text/plain": "0.21312808006909492"
     },
     "execution_count": 17,
     "metadata": {},
     "output_type": "execute_result"
    }
   ],
   "source": [
    "binom.pmf([5,6,7,8,9,10], n, p).sum()"
   ],
   "metadata": {
    "collapsed": false,
    "pycharm": {
     "name": "#%%\n"
    }
   }
  },
  {
   "cell_type": "code",
   "execution_count": 20,
   "outputs": [
    {
     "data": {
      "text/plain": "0.21312808006909523"
     },
     "execution_count": 20,
     "metadata": {},
     "output_type": "execute_result"
    }
   ],
   "source": [
    "1 - binom.cdf(4, n, p)"
   ],
   "metadata": {
    "collapsed": false,
    "pycharm": {
     "name": "#%%\n"
    }
   }
  },
  {
   "cell_type": "code",
   "execution_count": 21,
   "outputs": [
    {
     "data": {
      "text/plain": "0.21312808006909525"
     },
     "execution_count": 21,
     "metadata": {},
     "output_type": "execute_result"
    }
   ],
   "source": [
    "binom.sf(4, n, p)"
   ],
   "metadata": {
    "collapsed": false,
    "pycharm": {
     "name": "#%%\n"
    }
   }
  },
  {
   "cell_type": "markdown",
   "source": [
    "<h3>2.1 Distribuição Binomial</h3>\n",
    "<hr>\n",
    "<p>\n",
    "Um evento <b>binomial</b> é caracterizado pela possibilidade de ocorrência de apenas duas categorias. Estas categorias são representadas\n",
    "por todo espaço de amostra, sendo também mutualmente excludentes, isto é, a ocorrência de uma\n",
    "</p>\n",
    "\n",
    "![Probabilidade Binomial](../data/images/statistics-proba-binomial.png)\n",
    "\n",
    "<p>Onde:</p>\n",
    "<p><b>p</b> = probabilidade de sucesso</p>\n",
    "<p><b>q</b> = (1 - p) = probabilidade de fracasso</p>\n",
    "<p><b>n</b> = número de eventos estudados</p>\n",
    "<p><b>k</b> = número de eventos desejados que tenham sucesso</p>"
   ],
   "metadata": {
    "collapsed": false,
    "pycharm": {
     "name": "#%% md\n"
    }
   }
  },
  {
   "cell_type": "markdown",
   "source": [
    "<h4>Experimento Binomial</h4>\n",
    "<ol>\n",
    "<li>Realização de <b>n</b> idênticos.</li>\n",
    "<li>Os ensaios são independentes.</li>\n",
    "<li>Somentes os dois resultados são possíveis, exemplo: Verdadeiro ou Falso; Cara ou Coroa; Sucesso ou Fracasso.\n",
    "<li>A probablidade de sucesso é representada por <b>p</b> e a de fracasso por <b>(1 - p = q)</b>. Estas probabilidade não se modificam de\n",
    "ensaio para ensaio</li>\n",
    "</ol>"
   ],
   "metadata": {
    "collapsed": false,
    "pycharm": {
     "name": "#%% md\n"
    }
   }
  },
  {
   "cell_type": "markdown",
   "source": [
    "<h4>Média da distribuição binomial</h4>\n",
    "<p>O valor esperado ou a média da distribuição binomial é igual ano número de experimentos realizados multiplicado pela change de\n",
    "ocorrência do evento.</p>\n",
    "\n",
    "![Média da Distribuição Binomial](../data/images/statistics-media-dist-binomial.png)"
   ],
   "metadata": {
    "collapsed": false,
    "pycharm": {
     "name": "#%% md\n"
    }
   }
  },
  {
   "cell_type": "markdown",
   "source": [
    "<h4>Desvio padrão da distribuição binomial</h4>\n",
    "<p>O desvio padrão é o produto entre o número de experimentos, a probabilidade de sucesso e a probablidade de fracasso</p>\n",
    "\n",
    "![Desvio Padrão da Distribuição Binomial](../data/images/statistics-std-binomial.png)"
   ],
   "metadata": {
    "collapsed": false,
    "pycharm": {
     "name": "#%% md\n"
    }
   }
  },
  {
   "cell_type": "markdown",
   "source": [
    "<h4>Combinações:</h4>\n",
    "<p>Número de combinações de <b>n</b> objetos, tomados <b>k</b> a cada vez, e:</p>\n",
    "\n",
    "![Combinações](../data/images/statistics-comb.png)"
   ],
   "metadata": {
    "collapsed": false,
    "pycharm": {
     "name": "#%% md\n"
    }
   }
  },
  {
   "cell_type": "markdown",
   "source": [
    "<h4>Exemplo: Mega Sena</h4>\n",
    "<p>Em um volante de loteria da Mega Sena temos um total de <b>60 números</b> para escolher. A aposta mínima é de seis números. Você\n",
    "que é curioso resolve calcular a probabilidade de acertar na Mega Sena com apenas um jogo. Para isso precisamos saber quantas combinações\n",
    "de seis números podem ser formadas com os 60 números disponíveis</p>\n",
    "\n",
    "![Mega Sena](../data/images/statistics-comb-mega-sena.png)"
   ],
   "metadata": {
    "collapsed": false,
    "pycharm": {
     "name": "#%% md\n"
    }
   }
  },
  {
   "cell_type": "code",
   "execution_count": 10,
   "outputs": [
    {
     "data": {
      "text/plain": "50063860.0"
     },
     "execution_count": 10,
     "metadata": {},
     "output_type": "execute_result"
    }
   ],
   "source": [
    "combinations = comb(60, 6)\n",
    "combinations"
   ],
   "metadata": {
    "collapsed": false,
    "pycharm": {
     "name": "#%%\n"
    }
   }
  },
  {
   "cell_type": "code",
   "execution_count": 19,
   "outputs": [
    {
     "name": "stdout",
     "output_type": "stream",
     "text": [
      "0.000000019974489 <= Probabilidade de ganhar na Mega Sena com um Jogo\n"
     ]
    }
   ],
   "source": [
    "# Probabilidade de ganhar na Mega Sena com um jogo\n",
    "proba = 1 / combinations\n",
    "print('%0.15f <= Probabilidade de ganhar na Mega Sena com um Jogo' % proba)"
   ],
   "metadata": {
    "collapsed": false,
    "pycharm": {
     "name": "#%%\n"
    }
   }
  },
  {
   "cell_type": "markdown",
   "source": [
    "<p>\n",
    "Uma moeda, perfeitamente equilibrada, é lançada para o alto quatro vezes. Utilizando a distribuição binomial, obtenha a probabilidade de a moeda cair com a face coroa voltada para cima duas vezes.</p>"
   ],
   "metadata": {
    "collapsed": false,
    "pycharm": {
     "name": "#%% md\n"
    }
   }
  },
  {
   "cell_type": "code",
   "execution_count": 52,
   "outputs": [
    {
     "name": "stdout",
     "output_type": "stream",
     "text": [
      "37.50% <= probabilidade de dar cora duas vezes\n"
     ]
    }
   ],
   "source": [
    "print('{0:.2%} <= probabilidade de dar cora duas vezes'.format(binom.pmf(2, 4, (1/2))))"
   ],
   "metadata": {
    "collapsed": false,
    "pycharm": {
     "name": "#%%\n"
    }
   }
  },
  {
   "cell_type": "markdown",
   "source": [
    "<p>\n",
    "Um dado, perfeitamente equilibrado, é lançado para o alto dez vezes. Utilizando a distribuição binomial, obtenha a probabilidade de o dado cair com o número cinco voltado para cima pelo menos três vezes.</p>"
   ],
   "metadata": {
    "collapsed": false,
    "pycharm": {
     "name": "#%% md\n"
    }
   }
  },
  {
   "cell_type": "code",
   "execution_count": 53,
   "outputs": [
    {
     "name": "stdout",
     "output_type": "stream",
     "text": [
      "22.48% <= probabilidade do dado dar 5 voltado para cima pelo menos 3 vezes\n"
     ]
    }
   ],
   "source": [
    "print('{0:.2%} <= probabilidade do dado dar 5 voltado para cima pelo menos 3 vezes'.format(binom.sf(2, 10, (1/6))))"
   ],
   "metadata": {
    "collapsed": false,
    "pycharm": {
     "name": "#%%\n"
    }
   }
  }
 ],
 "metadata": {
  "kernelspec": {
   "display_name": "Python 3",
   "language": "python",
   "name": "python3"
  },
  "language_info": {
   "codemirror_mode": {
    "name": "ipython",
    "version": 2
   },
   "file_extension": ".py",
   "mimetype": "text/x-python",
   "name": "python",
   "nbconvert_exporter": "python",
   "pygments_lexer": "ipython2",
   "version": "2.7.6"
  }
 },
 "nbformat": 4,
 "nbformat_minor": 0
}